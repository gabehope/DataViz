{
 "cells": [
  {
   "cell_type": "code",
   "execution_count": 9,
   "metadata": {},
   "outputs": [],
   "source": [
    "import polars as pl\n",
    "\n",
    "df = pl.scan_csv('/Users/gabe/Downloads/MTA_Subway_Hourly_Ridership__Beginning_February_2022.csv').head().collect()"
   ]
  },
  {
   "cell_type": "code",
   "execution_count": 29,
   "metadata": {},
   "outputs": [
    {
     "data": {
      "text/html": [
       "\n",
       "            <div id=\"vlxxNT\"></div>\n",
       "            <script type=\"text/javascript\" data-lets-plot-script=\"library\">\n",
       "                if(!window.letsPlotCallQueue) {\n",
       "                    window.letsPlotCallQueue = [];\n",
       "                }; \n",
       "                window.letsPlotCall = function(f) {\n",
       "                    window.letsPlotCallQueue.push(f);\n",
       "                };\n",
       "                (function() {\n",
       "                    var script = document.createElement(\"script\");\n",
       "                    script.type = \"text/javascript\";\n",
       "                    script.src = \"https://cdn.jsdelivr.net/gh/JetBrains/lets-plot@v4.3.3/js-package/distr/lets-plot.min.js\";\n",
       "                    script.onload = function() {\n",
       "                        window.letsPlotCall = function(f) {f();};\n",
       "                        window.letsPlotCallQueue.forEach(function(f) {f();});\n",
       "                        window.letsPlotCallQueue = [];\n",
       "                        \n",
       "                    };\n",
       "                    script.onerror = function(event) {\n",
       "                        window.letsPlotCall = function(f) {};    // noop\n",
       "                        window.letsPlotCallQueue = [];\n",
       "                        var div = document.createElement(\"div\");\n",
       "                        div.style.color = 'darkred';\n",
       "                        div.textContent = 'Error loading Lets-Plot JS';\n",
       "                        document.getElementById(\"vlxxNT\").appendChild(div);\n",
       "                    };\n",
       "                    var e = document.getElementById(\"vlxxNT\");\n",
       "                    e.appendChild(script);\n",
       "                })()\n",
       "            </script>\n",
       "            "
      ]
     },
     "metadata": {},
     "output_type": "display_data"
    }
   ],
   "source": [
    "from lets_plot import *\n",
    "LetsPlot.setup_html()"
   ]
  },
  {
   "cell_type": "code",
   "execution_count": 47,
   "metadata": {},
   "outputs": [],
   "source": [
    "df = pl.scan_csv('/Users/gabe/Downloads/MTA_Subway_Hourly_Ridership__Beginning_February_2022.csv').select(['transit_timestamp', 'station_complex', 'ridership']).with_columns(pl.col(\"transit_timestamp\").str.to_datetime('%m/%d/%Y %I:%M:%S %p'))\n",
    "df = df.cast({\"station_complex\": pl.Categorical}).filter((pl.col('transit_timestamp') < end) & (pl.col('transit_timestamp') >= start)).select(['station_complex', 'ridership']).group_by('station_complex').sum()"
   ]
  },
  {
   "cell_type": "code",
   "execution_count": 48,
   "metadata": {},
   "outputs": [
    {
     "name": "stderr",
     "output_type": "stream",
     "text": [
      "/var/folders/t9/fjsr8h1x7c7cg4vqw_xhjq2w0000gn/T/ipykernel_73823/2853576136.py:1: CategoricalRemappingWarning: Local categoricals have different encodings, expensive re-encoding is done to perform this merge operation. Consider using a StringCache or an Enum type if the categories are known in advance\n",
      "  rides = df.collect()\n"
     ]
    }
   ],
   "source": [
    "rides = df.collect()"
   ]
  },
  {
   "cell_type": "code",
   "execution_count": 50,
   "metadata": {},
   "outputs": [],
   "source": [
    "rides.write_csv('data/rides.csv')"
   ]
  },
  {
   "cell_type": "code",
   "execution_count": 44,
   "metadata": {},
   "outputs": [
    {
     "data": {
      "text/html": [
       "<div><style>\n",
       ".dataframe > thead > tr,\n",
       ".dataframe > tbody > tr {\n",
       "  text-align: right;\n",
       "  white-space: pre-wrap;\n",
       "}\n",
       "</style>\n",
       "<small>shape: (426, 2)</small><table border=\"1\" class=\"dataframe\"><thead><tr><th>station_complex</th><th>ridership</th></tr><tr><td>cat</td><td>i64</td></tr></thead><tbody><tr><td>&quot;Seneca Av (M)&quot;</td><td>260</td></tr><tr><td>&quot;Jay St-MetroTech (A,C,F,R)&quot;</td><td>1138</td></tr><tr><td>&quot;Myrtle-Wyckoff Avs (L,M)&quot;</td><td>1602</td></tr><tr><td>&quot;St Lawrence Av (6)&quot;</td><td>196</td></tr><tr><td>&quot;Church Av (B,Q)&quot;</td><td>1301</td></tr><tr><td>&hellip;</td><td>&hellip;</td></tr><tr><td>&quot;Knickerbocker Av (M)&quot;</td><td>329</td></tr><tr><td>&quot;Bowery (J,Z)&quot;</td><td>90</td></tr><tr><td>&quot;157 St (1)&quot;</td><td>726</td></tr><tr><td>&quot;103 St (6)&quot;</td><td>608</td></tr><tr><td>&quot;Church Av (F,G)&quot;</td><td>679</td></tr></tbody></table></div>"
      ],
      "text/plain": [
       "shape: (426, 2)\n",
       "┌────────────────────────────┬───────────┐\n",
       "│ station_complex            ┆ ridership │\n",
       "│ ---                        ┆ ---       │\n",
       "│ cat                        ┆ i64       │\n",
       "╞════════════════════════════╪═══════════╡\n",
       "│ Seneca Av (M)              ┆ 260       │\n",
       "│ Jay St-MetroTech (A,C,F,R) ┆ 1138      │\n",
       "│ Myrtle-Wyckoff Avs (L,M)   ┆ 1602      │\n",
       "│ St Lawrence Av (6)         ┆ 196       │\n",
       "│ Church Av (B,Q)            ┆ 1301      │\n",
       "│ …                          ┆ …         │\n",
       "│ Knickerbocker Av (M)       ┆ 329       │\n",
       "│ Bowery (J,Z)               ┆ 90        │\n",
       "│ 157 St (1)                 ┆ 726       │\n",
       "│ 103 St (6)                 ┆ 608       │\n",
       "│ Church Av (F,G)            ┆ 679       │\n",
       "└────────────────────────────┴───────────┘"
      ]
     },
     "execution_count": 44,
     "metadata": {},
     "output_type": "execute_result"
    }
   ],
   "source": [
    "rides.group_by('station_complex').sum().write_csv()"
   ]
  },
  {
   "cell_type": "code",
   "execution_count": 35,
   "metadata": {},
   "outputs": [],
   "source": [
    "rides.write_csv('data/rides.csv')"
   ]
  },
  {
   "cell_type": "code",
   "execution_count": 32,
   "metadata": {},
   "outputs": [
    {
     "data": {
      "text/html": [
       "   <div id=\"wm3JCV\"></div>\n",
       "   <script type=\"text/javascript\" data-lets-plot-script=\"plot\">\n",
       "       (function() {\n",
       "           var plotSpec={\n",
       "\"mapping\":{\n",
       "},\n",
       "\"data_meta\":{\n",
       "},\n",
       "\"ggsize\":{\n",
       "\"width\":1600.0,\n",
       "\"height\":800.0\n",
       "},\n",
       "\"kind\":\"plot\",\n",
       "\"scales\":[],\n",
       "\"layers\":[{\n",
       "\"geom\":\"bar\",\n",
       "\"data\":{\n",
       "\"..count..\":[138.0,156.0,173.0,173.0,149.0,157.0,167.0,154.0,165.0,166.0,99.0,214.0,184.0,162.0,149.0,170.0,159.0,193.0,189.0,171.0,160.0,153.0,162.0,165.0,147.0,147.0,164.0,156.0,158.0,181.0,153.0,188.0,173.0,160.0,180.0,158.0,163.0,177.0,162.0,160.0,176.0,209.0,185.0,144.0,167.0,160.0,160.0,159.0,194.0,145.0,173.0,166.0,148.0,169.0,146.0,193.0,141.0,157.0,158.0,216.0,158.0,140.0,194.0,146.0,166.0,171.0,186.0,207.0,166.0,163.0,170.0,146.0,158.0,174.0,203.0,161.0,149.0,164.0,169.0,170.0,155.0,179.0,177.0,168.0,152.0,160.0,170.0,151.0,169.0,176.0,152.0,152.0,165.0,185.0,181.0,149.0,180.0,166.0,175.0,159.0,153.0,148.0,165.0,184.0,160.0,153.0,147.0,147.0,169.0,160.0,168.0,167.0,160.0,165.0,156.0,148.0,159.0,169.0,195.0,196.0,177.0,173.0,170.0,115.0,151.0,151.0,155.0,184.0,175.0,177.0,159.0,176.0,156.0,161.0,175.0,169.0,143.0,174.0,159.0,170.0,181.0,136.0,166.0,150.0,171.0,153.0,165.0,152.0,166.0,172.0,170.0,146.0,133.0,148.0,152.0,174.0,178.0,180.0,178.0,156.0,148.0,158.0,143.0,143.0,148.0,153.0,158.0,168.0,155.0,166.0,198.0,141.0,175.0,156.0,149.0,146.0,170.0,164.0,152.0,205.0,185.0,141.0,166.0,149.0,177.0,179.0,192.0,106.0,157.0,146.0,170.0,151.0,181.0,167.0,178.0,146.0,170.0,201.0,159.0,183.0,161.0,134.0,146.0,147.0,198.0,184.0,143.0,180.0,149.0,155.0,160.0,166.0,174.0,172.0,152.0,194.0,161.0,164.0,160.0,170.0,137.0,169.0,163.0,152.0,74.0,70.0,163.0,165.0,162.0,138.0,175.0,175.0,172.0,150.0,157.0,156.0,165.0,181.0,179.0,172.0,157.0,162.0,154.0,190.0,168.0,147.0,158.0,166.0,177.0,181.0,172.0,157.0,160.0,146.0,213.0,222.0,200.0,146.0,189.0,176.0,143.0,155.0,164.0,165.0,171.0,168.0,164.0,174.0,171.0,156.0,146.0,184.0,182.0,142.0,148.0,158.0,180.0,142.0,154.0,166.0,175.0,177.0,176.0,168.0,162.0,147.0,167.0,160.0,162.0,176.0,196.0,159.0,155.0,145.0,191.0,180.0,160.0,157.0,182.0,197.0,135.0,131.0,140.0,184.0,154.0,181.0,170.0,173.0,162.0,182.0,181.0,200.0,150.0,157.0,152.0,119.0,162.0,138.0,146.0,175.0,188.0,174.0,171.0,119.0,158.0,180.0,187.0,142.0,146.0,169.0,167.0,210.0,158.0,165.0,153.0,123.0,186.0,173.0,167.0,198.0,148.0,138.0,156.0,147.0,170.0,164.0,139.0,206.0,144.0,137.0,146.0,156.0,168.0,162.0,193.0,151.0,161.0,181.0,182.0,170.0,131.0,120.0,9.0,165.0,168.0,145.0,156.0,160.0,172.0,148.0,186.0,152.0,178.0,136.0,187.0,176.0,213.0,142.0,144.0,152.0,183.0,194.0,154.0,184.0,125.0,158.0,170.0,158.0,160.0,178.0,158.0,158.0,156.0,155.0,147.0,166.0,164.0,131.0,160.0,173.0,105.0,181.0,142.0,147.0,140.0,132.0,164.0,164.0,164.0,141.0,148.0,167.0,90.0,155.0,183.0,152.0,154.0,150.0,130.0,173.0,134.0,150.0,133.0,150.0,171.0,121.0,142.0],\n",
       "\"station_complex\":[\"Middletown Rd (6)\",\"Bay Ridge-95 St (R)\",\"28 St (6)\",\"Church Av (B,Q)\",\"Eastchester-Dyre Av (5)\",\"Westchester Sq-E Tremont Av (6)\",\"Hunts Point Av (6)\",\"Longwood Av (6)\",\"68 St-Hunter College (6)\",\"Prospect Park (B,Q,S)\",\"219 St (2,5)\",\"Flushing-Main St (7)\",\"Vernon Blvd-Jackson Av (7)\",\"Avenue J (Q)\",\"Neck Rd (Q)\",\"Sheepshead Bay (B,Q)\",\"9 Av (D)\",\"14 St (F,M,1,2,3)/6 Av (L)\",\"Lorimer St (L)/Metropolitan Av (G)\",\"Marcy Av (M,J,Z)\",\"New Lots Av (L)\",\"East 105 St (L)\",\"135 St (C,B)\",\"Grant Av (A)\",\"Central Av (M)\",\"Livonia Av (L)\",\"86 St (C,B)\",\"High St (A,C)\",\"Lafayette Av (C)\",\"23 St (F,M)\",\"Prospect Av (R)\",\"96 St (1,2,3)\",\"Nevins St (2,3,4,5)\",\"Nostrand Av (3)\",\"Flatbush Av-Brooklyn College (2,5)\",\"E 149 St (6)\",\"Mt Eden Av (4)\",\"116 St (6)\",\"174 St (2,5)\",\"52 St (7)\",\"4 Av (F,G)/9 St (R)\",\"Bryant Pk (B,D,F,M)/5 Av (7)\",\"Canal St (J,N,Q,R,W,Z,6)\",\"RI Tramway (Manhattan)\",\"Jefferson St (L)\",\"Halsey St (L)\",\"Prince St (R,W)\",\"Ralph Av (C)\",\"Kew Gardens-Union Tpke (E,F)\",\"75 Av (E,F)\",\"Nassau Av (G)\",\"116 St-Columbia University (1)\",\"Canal St (1)\",\"Wall St (2,3)\",\"Eastern Pkwy-Brooklyn Museum (2,3)\",\"Crown Hts-Utica Av (3,4)\",\"Intervale Av (2,5)\",\"Prospect Av (2,5)\",\"Cortelyou Rd (Q)\",\"14 St-Union Sq (L,N,Q,R,W,4,5,6)\",\"Fort Hamilton Pkwy (N)\",\"Woodhaven Blvd (J,Z)\",\"Bedford Av (L)\",\"Liberty Av (C)\",\"Far Rockaway-Mott Av (A)\",\"Tremont Av (B,D)\",\"Jamaica Center-Parsons/Archer (E,J,Z)\",\"Sutphin Blvd-Archer Av-JFK Airport (E,J,Z)\",\"Jamaica-Van Wyck (E)\",\"Marble Hill-225 St (1)\",\"Cathedral Pkwy (110 St) (1)\",\"Cypress Av (6)\",\"176 St (4)\",\"Spring St (6)\",\"Court Sq (E,G,M,7)\",\"Kings Hwy (N)\",\"Beach 60 St (A)\",\"Norwood-205 St (D)\",\"167 St (B,D)\",\"Church Av (F,G)\",\"Briarwood (E,F)\",\"Grand Av-Newtown (M,R)\",\"Steinway St (M,R)\",\"66 St-Lincoln Center (1)\",\"Clark St (2,3)\",\"Saratoga Av (3)\",\"Pelham Bay Park (6)\",\"St Lawrence Av (6)\",\"40 St-Lowery St (7)\",\"Queensboro Plaza (7,N,W)\",\"Ocean Pkwy (Q)\",\"79 St (D)\",\"Flushing Av (M,J)\",\"50 St (C,E)\",\"Grand St (B,D)\",\"25 St (R)\",\"33 St (6)\",\"Avenue U (Q)\",\"149 St-Grand Concourse (2,4,5)\",\"71 St (D)\",\"121 St (J,Z)\",\"Hewes St (M,J)\",\"116 St (C,B)\",\"Hoyt-Schermerhorn Sts (A,C,G)\",\"Kingston-Throop Avs (C)\",\"Van Siclen Av (C)\",\"Shepherd Av (C)\",\"18 Av (F)\",\"86 St (1)\",\"Sutter Av-Rutland Rd (3)\",\"New Lots Av (3)\",\"Winthrop St (2,5)\",\"Bedford Park Blvd-Lehman College (4)\",\"Wall St (4,5)\",\"Wakefield-241 St (2)\",\"Nereid Av (2,5)\",\"111 St (7)\",\"33 St-Rawson St (7)\",\"59 St-Columbus Circle (A,B,C,D,1)\",\"Broadway-Lafayette St (B,D,F,M)/Bleecker St (6)\",\"49 St (N,R,W)\",\"Inwood-207 St (A)\",\"Euclid Av (A,C)\",\"Beach 90 St (A,S)\",\"Fort Hamilton Pkwy (F,G)\",\"Ditmas Av (F)\",\"Kings Hwy (F)\",\"DeKalb Av (B,Q,R)\",\"Elmhurst Av (M,R)\",\"36 St (D,N,R)\",\"President St-Medgar Evers College (2,5)\",\"90 St-Elmhurst Av (7)\",\"Hunters Point Av (7)\",\"New Utrecht Av (N)/62 St (D)\",\"Broadway Junction (A,C,J,L,Z)\",\"8 Av (N)\",\"Van Siclen Av (J,Z)\",\"Astoria-Ditmars Blvd (N,W)\",\"190 St (A)\",\"81 St-Museum of Natural History (C,B)\",\"Nostrand Av (A,C)\",\"Aqueduct Racetrack (A)\",\"21 St-Queensbridge (F)\",\"15 St-Prospect Park (F,G)\",\"169 St (F)\",\"36 St (M,R)\",\"Union St (R)\",\"Fulton St (G)\",\"207 St (1)\",\"Chambers St (1,2,3)\",\"WTC Cortlandt (1)\",\"Buhre Av (6)\",\"Whitlock Av (6)\",\"Burke Av (2,5)\",\"Beverley Rd (Q)\",\"82 St-Jackson Hts (7)\",\"34 St-Hudson Yards (7)\",\"96 St (Q)\",\"72 St (Q)\",\"20 Av (D)\",\"18 Av (N)\",\"5 Av/59 St (N,R,W)\",\"111 St (J)\",\"Norwood Av (J,Z)\",\"Halsey St (J)\",\"Fresh Pond Rd (M)\",\"Sutter Av (L)\",\"Rockaway Blvd (A)\",\"170 St (B,D)\",\"Roosevelt Island (F)\",\"47-50 Sts-Rockefeller Ctr (B,D,F,M)\",\"Flushing Av (G)\",\"30 Av (N,W)\",\"Rockaway Av (3)\",\"Junius St (3)\",\"Bay Ridge Av (R)\",\"Woodlawn (4)\",\"Mosholu Pkwy (4)\",\"86 St (R)\",\"125 St (4,5,6)\",\"23 St (6)\",\"145 St (3)\",\"Brighton Beach (B,Q)\",\"W 8 St-NY Aquarium (F,Q)\",\"Brooklyn Bridge-City Hall (4,5,6)/Chambers St (J,Z)\",\"Franklin Av (2,3,4,5)/Botanic Garden (S)\",\"Jay St-MetroTech (A,C,F,R)\",\"Tompkinsville (SIR)\",\"DeKalb Av (L)\",\"Bushwick Av-Aberdeen St (L)\",\"175 St (A)\",\"155 St (C)\",\"Lexington Av/63 St (F,Q)\",\"York St (F)\",\"Jamaica-179 St (F)\",\"215 St (1)\",\"Houston St (1)\",\"86 St (4,5,6)\",\"7 Av (B,Q)\",\"Junction Blvd (7)\",\"36 Av (N,W)\",\"55 St (D)\",\"Avenue U (N)\",\"Crescent St (J,Z)\",\"34 St-Penn Station (A,C,E)\",\"Canal St (A,C,E)\",\"Avenue P (F)\",\"Woodhaven Blvd (M,R)\",\"Myrtle-Willoughby Avs (G)\",\"Hoyt St (2,3)\",\"Grand Army Plaza (2,3)\",\"Newkirk Av-Little Haiti (2,5)\",\"Parkchester (6)\",\"Central Park North (110 St) (2,3)\",\"Fort Hamilton Pkwy (D)\",\"Lexington Av-53 St (E,M)/51 St (6)\",\"25 Av (D)\",\"Bay Pkwy (N)\",\"Gates Av (J,Z)\",\"Myrtle Av (M,J,Z)\",\"Atlantic Av (L)\",\"Dyckman St (A)\",\"Spring St (C,E)\",\"Rockaway Av (C)\",\"Broad Channel (A,S)\",\"Beach 105 St (A,S)\",\"Bedford Park Blvd (B,D)\",\"57 St (F)\",\"Bergen St (F,G)\",\"Avenue N (F)\",\"145 St (1)\",\"137 St-City College (1)\",\"103 St (1)\",\"Franklin St (1)\",\"138 St-Grand Concourse (4,5)\",\"233 St (2,5)\",\"Simpson St (2,5)\",\"61 St-Woodside (7)\",\"46 St-Bliss St (7)\",\"86 St (Q)\",\"18 Av (D)\",\"Bay Pkwy (D)\",\"96 St (C,B)\",\"W 4 St-Wash Sq (A,C,E,B,D,F,M)\",\"Ozone Park-Lefferts Blvd (A)\",\"65 St (M,R)\",\"Broadway (G)\",\"18 St (1)\",\"59 St (N,R)\",\"96 St (6)\",\"Broadway (N,W)\",\"West Farms Sq-E Tremont Av (2,5)\",\"69 St (7)\",\"Avenue H (Q)\",\"Grand Central-42 St (S,4,5,6,7)\",\"Times Sq-42 St (N,Q,R,W,S,1,2,3,7)/42 St (A,C,E)\",\"Fulton St (A,C,J,Z,2,3,4,5)\",\"Cleveland St (J)\",\"57 St-7 Av (N,Q,R,W)\",\"St George (SIR)\",\"Forest Av (M)\",\"Canarsie-Rockaway Pkwy (L)\",\"Cathedral Pkwy (110 St) (C,B)\",\"Howard Beach-JFK Airport (A)\",\"Astoria Blvd (N,W)\",\"Parsons Blvd (F)\",\"Van Cortlandt Park-242 St (1)\",\"125 St (1)\",\"Castle Hill Av (6)\",\"Allerton Av (2,5)\",\"50 St (D)\",\"Lexington Av (N,R,W)/59 St (4,5,6)\",\"South Ferry (1)/Whitehall St (R,W)\",\"Bowery (J,Z)\",\"City Hall (R,W)\",\"174-175 Sts (B,D)\",\"2 Av (F)\",\"Avenue U (F)\",\"Morrison Av-Soundview (6)\",\"3 Av-138 St (6)\",\"77 St (6)\",\"125 St (2,3)\",\"116 St (2,3)\",\"Montrose Av (L)\",\"7 Av (F,G)\",\"Avenue X (F)\",\"Bedford-Nostrand Avs (G)\",\"Classon Av (G)\",\"Sterling St (2,5)\",\"103 St-Corona Plaza (7)\",\"34 St-Herald Sq (B,D,F,M,N,Q,R,W)\",\"Kosciuszko St (J)\",\"Graham Av (L)\",\"155 St (B,D)\",\"Forest Hills-71 Av (E,F,M,R)\",\"Christopher St-Sheridan Sq (1)\",\"Rector St (1)\",\"Kingston Av (3)\",\"Bowling Green (4,5)\",\"14 St (A,C,E)/8 Av (L)\",\"RI Tramway (Roosevelt)\",\"104 St (A)\",\"Beach 25 St (A)\",\"East Broadway (F)\",\"5 Av/53 St (E,M)\",\"7 Av (E,B,D)\",\"181 St (1)\",\"28 St (1)\",\"167 St (4)\",\"Astor Pl (6)\",\"135 St (2,3)\",\"Coney Island-Stillwell Av (D,F,N,Q)\",\"104 St (J,Z)\",\"Morgan Av (L)\",\"103 St (C,B)\",\"Beach 36 St (A)\",\"Kingsbridge Rd (B,D)\",\"Neptune Av (F)\",\"Clinton-Washington Avs (G)\",\"1 Av (L)\",\"72 St (1,2,3)\",\"23 St (1)\",\"Pelham Pkwy (2,5)\",\"75 St-Elderts Ln (J,Z)\",\"3 Av (L)\",\"145 St (A,C,B,D)\",\"125 St (A,C,B,D)\",\"88 St (A)\",\"Beach 67 St (A)\",\"Northern Blvd (M,R)\",\"191 St (1)\",\"34 St-Penn Station (1,2,3)\",\"45 St (R)\",\"Kingsbridge Rd (4)\",\"Freeman St (2,5)\",\"Morris Park (5)\",\"Delancey St (F)/Essex St (J,M,Z)\",\"Fordham Rd (B,D)\",\"79 St (1)\",\"74-Broadway (7)/Jackson Hts-Roosevelt Av (E,F,M,R)\",\"Lorimer St (M,J)\",\"Seneca Av (M)\",\"80 St (A)\",\"Smith-9 Sts (F,G)\",\"231 St (1)\",\"110 St (6)\",\"Bronx Park East (2,5)\",\"161 St-Yankee Stadium (B,D,4)\",\"Broad St (J,Z)\",\"Avenue I (F)\",\"Harlem-148 St (3)\",\"Mets-Willets Point (7)\",\"181 St (A)\",\"Carroll St (F,G)\",\"168 St (A,C,1)\",\"Bergen St (2,3)\",\"Brook Av (6)\",\"Fordham Rd (4)\",\"8 St-NYU (R,W)\",\"Queens Plaza (E,M,R)\",\"Pelham Pkwy (5)\",\"Beach 44 St (A)\",\"Greenpoint Av (G)\",\"Gun Hill Rd (2,5)\",\"Newkirk Plaza (B,Q)\",\"Bay 50 St (D)\",\"53 St (R)\",\"183 St (4)\",\"103 St (6)\",\"39 Av-Dutch Kills (N,W)\",\"Court St (R)/Borough Hall (2,3,4,5)\",\"238 St (1)\",\"3 Av-149 St (2,5)\",\"Baychester Av (5)\",\"Chambers St (A,C)/WTC (E)/Park Pl (2,3)/Cortlandt (R,W)\",\"63 Dr-Rego Park (M,R)\",\"Atlantic Av-Barclays Ctr (B,D,N,Q,R,2,3,4,5)\",\"86 St (N)\",\"Chauncey St (J,Z)\",\"225 St (2,5)\",\"E 180 St (2,5)\",\"Myrtle-Wyckoff Avs (L,M)\",\"Pennsylvania Av (3)\",\"Kings Hwy (B,Q)\",\"Rockaway Park-Beach 116 St (A,S)\",\"Sutphin Blvd (F)\",\"Church Av (2,5)\",\"Beverly Rd (2,5)\",\"Parkside Av (Q)\",\"23 St (R,W)\",\"Franklin Av (C,S)\",\"72 St (C,B)\",\"Middle Village-Metropolitan Av (M)\",\"Jackson Av (2,5)\",\"Alabama Av (J)\",\"67 Av (M,R)\",\"Grand St (L)\",\"Cypress Hills (J)\",\"163 St-Amsterdam Av (C)\",\"Utica Av (A,C)\",\"Aqueduct-N Conduit Av (A)\",\"50 St (1)\",\"Van Siclen Av (3)\",\"77 St (R)\",\"Rector St (R,W)\",\"Park Pl (S)\",\"28 St (R,W)\",\"46 St (M,R)\",\"170 St (4)\",\"Zerega Av (6)\",\"Gun Hill Rd (5)\",\"Dyckman St (1)\",\"Beach 98 St (A,S)\",\"Avenue M (Q)\",\"23 St (C,E)\",\"182-183 Sts (B,D)\",\"Elder Av (6)\",\"Clinton-Washington Avs (C)\",\"Bay Pkwy (F)\",\"157 St (1)\",\"Knickerbocker Av (M)\",\"Wilson Av (L)\",\"111 St (A)\",\"85 St-Forest Pkwy (J)\",\"Burnside Av (4)\",\"E 143 St-St Mary's St (6)\",\"20 Av (N)\"]\n",
       "},\n",
       "\"mapping\":{\n",
       "\"x\":\"station_complex\"\n",
       "},\n",
       "\"data_meta\":{\n",
       "\"series_annotations\":[{\n",
       "\"column\":\"transit_timestamp\",\n",
       "\"type\":\"datetime\"\n",
       "}]\n",
       "}\n",
       "}],\n",
       "\"metainfo_list\":[]\n",
       "};\n",
       "           var plotContainer = document.getElementById(\"wm3JCV\");\n",
       "           window.letsPlotCall(function() {{\n",
       "               LetsPlot.buildPlotFromProcessedSpecs(plotSpec, -1, -1, plotContainer);\n",
       "           }});\n",
       "       })();\n",
       "   </script>"
      ],
      "text/plain": [
       "<lets_plot.plot.core.PlotSpec at 0x28250fd10>"
      ]
     },
     "execution_count": 32,
     "metadata": {},
     "output_type": "execute_result"
    }
   ],
   "source": [
    "ggplot() + geom_bar(\n",
    "    data=rides,\n",
    "    mapping=aes(x='station_complex')\n",
    ") + ggsize(1600, 800)"
   ]
  },
  {
   "cell_type": "code",
   "execution_count": 46,
   "metadata": {},
   "outputs": [],
   "source": [
    "start = pl.datetime(2024, 7, 1)\n",
    "end = pl.datetime(2024, 8, 1)\n",
    "\n",
    "#df.filter((pl.col('transit_timestamp') < end) & (pl.col('transit_timestamp') >= start))"
   ]
  }
 ],
 "metadata": {
  "kernelspec": {
   "display_name": ".venv",
   "language": "python",
   "name": "python3"
  },
  "language_info": {
   "codemirror_mode": {
    "name": "ipython",
    "version": 3
   },
   "file_extension": ".py",
   "mimetype": "text/x-python",
   "name": "python",
   "nbconvert_exporter": "python",
   "pygments_lexer": "ipython3",
   "version": "3.12.4"
  }
 },
 "nbformat": 4,
 "nbformat_minor": 2
}
