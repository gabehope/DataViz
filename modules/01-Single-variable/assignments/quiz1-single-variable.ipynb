{
 "cells": [
  {
   "cell_type": "markdown",
   "metadata": {},
   "source": [
    "# Quiz 1"
   ]
  },
  {
   "cell_type": "code",
   "execution_count": null,
   "metadata": {},
   "outputs": [],
   "source": [
    "# Run if using Colab\n",
    "!pip install lets-plot"
   ]
  },
  {
   "cell_type": "code",
   "execution_count": 3,
   "metadata": {},
   "outputs": [
    {
     "data": {
      "text/html": [
       "\n",
       "            <div id=\"tIhquZ\"></div>\n",
       "            <script type=\"text/javascript\" data-lets-plot-script=\"library\">\n",
       "                if(!window.letsPlotCallQueue) {\n",
       "                    window.letsPlotCallQueue = [];\n",
       "                }; \n",
       "                window.letsPlotCall = function(f) {\n",
       "                    window.letsPlotCallQueue.push(f);\n",
       "                };\n",
       "                (function() {\n",
       "                    var script = document.createElement(\"script\");\n",
       "                    script.type = \"text/javascript\";\n",
       "                    script.src = \"https://cdn.jsdelivr.net/gh/JetBrains/lets-plot@v4.3.3/js-package/distr/lets-plot.min.js\";\n",
       "                    script.onload = function() {\n",
       "                        window.letsPlotCall = function(f) {f();};\n",
       "                        window.letsPlotCallQueue.forEach(function(f) {f();});\n",
       "                        window.letsPlotCallQueue = [];\n",
       "                        \n",
       "                    };\n",
       "                    script.onerror = function(event) {\n",
       "                        window.letsPlotCall = function(f) {};    // noop\n",
       "                        window.letsPlotCallQueue = [];\n",
       "                        var div = document.createElement(\"div\");\n",
       "                        div.style.color = 'darkred';\n",
       "                        div.textContent = 'Error loading Lets-Plot JS';\n",
       "                        document.getElementById(\"tIhquZ\").appendChild(div);\n",
       "                    };\n",
       "                    var e = document.getElementById(\"tIhquZ\");\n",
       "                    e.appendChild(script);\n",
       "                })()\n",
       "            </script>\n",
       "            "
      ]
     },
     "metadata": {},
     "output_type": "display_data"
    }
   ],
   "source": [
    "import numpy as np\n",
    "import pandas as pd\n",
    "from vega_datasets import data\n",
    "from lets_plot import *\n",
    "LetsPlot.setup_html()"
   ]
  },
  {
   "cell_type": "markdown",
   "metadata": {},
   "source": [
    "# Part 1: Variables and summary statistics\n",
    "\n",
    "For the questions in this section, consider the following dataset."
   ]
  },
  {
   "cell_type": "code",
   "execution_count": 4,
   "metadata": {},
   "outputs": [
    {
     "data": {
      "text/html": [
       "<div>\n",
       "<style scoped>\n",
       "    .dataframe tbody tr th:only-of-type {\n",
       "        vertical-align: middle;\n",
       "    }\n",
       "\n",
       "    .dataframe tbody tr th {\n",
       "        vertical-align: top;\n",
       "    }\n",
       "\n",
       "    .dataframe thead th {\n",
       "        text-align: right;\n",
       "    }\n",
       "</style>\n",
       "<table border=\"1\" class=\"dataframe\">\n",
       "  <thead>\n",
       "    <tr style=\"text-align: right;\">\n",
       "      <th></th>\n",
       "      <th>date</th>\n",
       "      <th>precipitation</th>\n",
       "      <th>temp_max</th>\n",
       "      <th>temp_min</th>\n",
       "      <th>wind</th>\n",
       "      <th>weather</th>\n",
       "    </tr>\n",
       "  </thead>\n",
       "  <tbody>\n",
       "    <tr>\n",
       "      <th>0</th>\n",
       "      <td>2012-01-01</td>\n",
       "      <td>0.0</td>\n",
       "      <td>12.8</td>\n",
       "      <td>5.0</td>\n",
       "      <td>4.7</td>\n",
       "      <td>drizzle</td>\n",
       "    </tr>\n",
       "    <tr>\n",
       "      <th>1</th>\n",
       "      <td>2012-01-02</td>\n",
       "      <td>10.9</td>\n",
       "      <td>10.6</td>\n",
       "      <td>2.8</td>\n",
       "      <td>4.5</td>\n",
       "      <td>rain</td>\n",
       "    </tr>\n",
       "    <tr>\n",
       "      <th>2</th>\n",
       "      <td>2012-01-03</td>\n",
       "      <td>0.8</td>\n",
       "      <td>11.7</td>\n",
       "      <td>7.2</td>\n",
       "      <td>2.3</td>\n",
       "      <td>rain</td>\n",
       "    </tr>\n",
       "    <tr>\n",
       "      <th>3</th>\n",
       "      <td>2012-01-04</td>\n",
       "      <td>20.3</td>\n",
       "      <td>12.2</td>\n",
       "      <td>5.6</td>\n",
       "      <td>4.7</td>\n",
       "      <td>rain</td>\n",
       "    </tr>\n",
       "    <tr>\n",
       "      <th>4</th>\n",
       "      <td>2012-01-05</td>\n",
       "      <td>1.3</td>\n",
       "      <td>8.9</td>\n",
       "      <td>2.8</td>\n",
       "      <td>6.1</td>\n",
       "      <td>rain</td>\n",
       "    </tr>\n",
       "  </tbody>\n",
       "</table>\n",
       "</div>"
      ],
      "text/plain": [
       "        date  precipitation  temp_max  temp_min  wind  weather\n",
       "0 2012-01-01            0.0      12.8       5.0   4.7  drizzle\n",
       "1 2012-01-02           10.9      10.6       2.8   4.5     rain\n",
       "2 2012-01-03            0.8      11.7       7.2   2.3     rain\n",
       "3 2012-01-04           20.3      12.2       5.6   4.7     rain\n",
       "4 2012-01-05            1.3       8.9       2.8   6.1     rain"
      ]
     },
     "execution_count": 4,
     "metadata": {},
     "output_type": "execute_result"
    }
   ],
   "source": [
    "df = data.seattle_weather()\n",
    "df.head()"
   ]
  },
  {
   "cell_type": "markdown",
   "metadata": {},
   "source": [
    "## Q1: Interpreting a dataset\n",
    "\n",
    "Take a look at the given dataset. What does one row of this dataset represent?"
   ]
  },
  {
   "cell_type": "markdown",
   "metadata": {},
   "source": [
    "## Q2: Nominal Variables\n",
    "\n",
    "How many *nominal variables* are present in this dataset? How many unique values does each nominal variable have?"
   ]
  },
  {
   "cell_type": "markdown",
   "metadata": {},
   "source": [
    "## Q3: Summary statistics\n",
    "\n",
    "Compute the *mean*, *median*, *maximum* and *75th percentile* of the variable: `temp_max` using Pandas."
   ]
  },
  {
   "cell_type": "markdown",
   "metadata": {},
   "source": [
    "# Part 2: Visualizing densities"
   ]
  },
  {
   "cell_type": "markdown",
   "metadata": {},
   "source": [
    "## Q4: Histograms\n",
    "\n",
    "True or false: A *histogram* is used to visualize *nominal data*?"
   ]
  },
  {
   "cell_type": "markdown",
   "metadata": {},
   "source": [
    "## Q5: Density plots\n",
    "\n",
    "Given the dataset below, plot the variable `HLY-TEMP-NORMAL` using a *kernel density estimate* plot. \n",
    "\n",
    "Using the default settings, how many *modes* does the resulting density estimate have?\n",
    "\n",
    "If you *decrease* the bandwidth parameter, would you expect the number of modes to increase or decrease?\n",
    "\n",
    "What is (approximately) the *minimum bandwidth* such that the resulting plot shows a single mode?"
   ]
  },
  {
   "cell_type": "code",
   "execution_count": 8,
   "metadata": {},
   "outputs": [
    {
     "data": {
      "text/html": [
       "<div>\n",
       "<style scoped>\n",
       "    .dataframe tbody tr th:only-of-type {\n",
       "        vertical-align: middle;\n",
       "    }\n",
       "\n",
       "    .dataframe tbody tr th {\n",
       "        vertical-align: top;\n",
       "    }\n",
       "\n",
       "    .dataframe thead th {\n",
       "        text-align: right;\n",
       "    }\n",
       "</style>\n",
       "<table border=\"1\" class=\"dataframe\">\n",
       "  <thead>\n",
       "    <tr style=\"text-align: right;\">\n",
       "      <th></th>\n",
       "      <th>STATION</th>\n",
       "      <th>STATION_NAME</th>\n",
       "      <th>ELEVATION</th>\n",
       "      <th>LATITUDE</th>\n",
       "      <th>LONGITUDE</th>\n",
       "      <th>DATE</th>\n",
       "      <th>HLY-TEMP-NORMAL</th>\n",
       "      <th>HLY-PRES-NORMAL</th>\n",
       "      <th>HLY-DEWP-NORMAL</th>\n",
       "    </tr>\n",
       "  </thead>\n",
       "  <tbody>\n",
       "    <tr>\n",
       "      <th>0</th>\n",
       "      <td>GHCND:USW00003812</td>\n",
       "      <td>ASHEVILLE REGIONAL AIRPORT NC US</td>\n",
       "      <td>645.3</td>\n",
       "      <td>35.43194</td>\n",
       "      <td>-82.5375</td>\n",
       "      <td>2010-01-01 00:00:00</td>\n",
       "      <td>349</td>\n",
       "      <td>10205</td>\n",
       "      <td>289</td>\n",
       "    </tr>\n",
       "    <tr>\n",
       "      <th>1</th>\n",
       "      <td>GHCND:USW00003812</td>\n",
       "      <td>ASHEVILLE REGIONAL AIRPORT NC US</td>\n",
       "      <td>645.3</td>\n",
       "      <td>35.43194</td>\n",
       "      <td>-82.5375</td>\n",
       "      <td>2010-01-01 01:00:00</td>\n",
       "      <td>344</td>\n",
       "      <td>10202</td>\n",
       "      <td>287</td>\n",
       "    </tr>\n",
       "    <tr>\n",
       "      <th>2</th>\n",
       "      <td>GHCND:USW00003812</td>\n",
       "      <td>ASHEVILLE REGIONAL AIRPORT NC US</td>\n",
       "      <td>645.3</td>\n",
       "      <td>35.43194</td>\n",
       "      <td>-82.5375</td>\n",
       "      <td>2010-01-01 02:00:00</td>\n",
       "      <td>339</td>\n",
       "      <td>10200</td>\n",
       "      <td>284</td>\n",
       "    </tr>\n",
       "    <tr>\n",
       "      <th>3</th>\n",
       "      <td>GHCND:USW00003812</td>\n",
       "      <td>ASHEVILLE REGIONAL AIRPORT NC US</td>\n",
       "      <td>645.3</td>\n",
       "      <td>35.43194</td>\n",
       "      <td>-82.5375</td>\n",
       "      <td>2010-01-01 03:00:00</td>\n",
       "      <td>334</td>\n",
       "      <td>10202</td>\n",
       "      <td>283</td>\n",
       "    </tr>\n",
       "    <tr>\n",
       "      <th>4</th>\n",
       "      <td>GHCND:USW00003812</td>\n",
       "      <td>ASHEVILLE REGIONAL AIRPORT NC US</td>\n",
       "      <td>645.3</td>\n",
       "      <td>35.43194</td>\n",
       "      <td>-82.5375</td>\n",
       "      <td>2010-01-01 04:00:00</td>\n",
       "      <td>331</td>\n",
       "      <td>10202</td>\n",
       "      <td>280</td>\n",
       "    </tr>\n",
       "  </tbody>\n",
       "</table>\n",
       "</div>"
      ],
      "text/plain": [
       "             STATION                      STATION_NAME  ELEVATION  LATITUDE  \\\n",
       "0  GHCND:USW00003812  ASHEVILLE REGIONAL AIRPORT NC US      645.3  35.43194   \n",
       "1  GHCND:USW00003812  ASHEVILLE REGIONAL AIRPORT NC US      645.3  35.43194   \n",
       "2  GHCND:USW00003812  ASHEVILLE REGIONAL AIRPORT NC US      645.3  35.43194   \n",
       "3  GHCND:USW00003812  ASHEVILLE REGIONAL AIRPORT NC US      645.3  35.43194   \n",
       "4  GHCND:USW00003812  ASHEVILLE REGIONAL AIRPORT NC US      645.3  35.43194   \n",
       "\n",
       "   LONGITUDE                DATE  HLY-TEMP-NORMAL  HLY-PRES-NORMAL  \\\n",
       "0   -82.5375 2010-01-01 00:00:00              349            10205   \n",
       "1   -82.5375 2010-01-01 01:00:00              344            10202   \n",
       "2   -82.5375 2010-01-01 02:00:00              339            10200   \n",
       "3   -82.5375 2010-01-01 03:00:00              334            10202   \n",
       "4   -82.5375 2010-01-01 04:00:00              331            10202   \n",
       "\n",
       "   HLY-DEWP-NORMAL  \n",
       "0              289  \n",
       "1              287  \n",
       "2              284  \n",
       "3              283  \n",
       "4              280  "
      ]
     },
     "execution_count": 8,
     "metadata": {},
     "output_type": "execute_result"
    }
   ],
   "source": [
    "df = data.climate()\n",
    "df.head()"
   ]
  },
  {
   "cell_type": "markdown",
   "metadata": {},
   "source": [
    "# Part 3: Modeling\n",
    "\n",
    "For this section, use the following dataset:"
   ]
  },
  {
   "cell_type": "code",
   "execution_count": 11,
   "metadata": {},
   "outputs": [
    {
     "data": {
      "text/html": [
       "<div>\n",
       "<style scoped>\n",
       "    .dataframe tbody tr th:only-of-type {\n",
       "        vertical-align: middle;\n",
       "    }\n",
       "\n",
       "    .dataframe tbody tr th {\n",
       "        vertical-align: top;\n",
       "    }\n",
       "\n",
       "    .dataframe thead th {\n",
       "        text-align: right;\n",
       "    }\n",
       "</style>\n",
       "<table border=\"1\" class=\"dataframe\">\n",
       "  <thead>\n",
       "    <tr style=\"text-align: right;\">\n",
       "      <th></th>\n",
       "      <th>A</th>\n",
       "      <th>B</th>\n",
       "      <th>C</th>\n",
       "      <th>D</th>\n",
       "    </tr>\n",
       "  </thead>\n",
       "  <tbody>\n",
       "    <tr>\n",
       "      <th>0</th>\n",
       "      <td>0.368</td>\n",
       "      <td>1</td>\n",
       "      <td>18</td>\n",
       "      <td>True</td>\n",
       "    </tr>\n",
       "    <tr>\n",
       "      <th>1</th>\n",
       "      <td>0.545</td>\n",
       "      <td>0</td>\n",
       "      <td>32</td>\n",
       "      <td>False</td>\n",
       "    </tr>\n",
       "    <tr>\n",
       "      <th>2</th>\n",
       "      <td>0.500</td>\n",
       "      <td>0</td>\n",
       "      <td>20</td>\n",
       "      <td>False</td>\n",
       "    </tr>\n",
       "    <tr>\n",
       "      <th>3</th>\n",
       "      <td>0.533</td>\n",
       "      <td>1</td>\n",
       "      <td>23</td>\n",
       "      <td>False</td>\n",
       "    </tr>\n",
       "    <tr>\n",
       "      <th>4</th>\n",
       "      <td>0.565</td>\n",
       "      <td>1</td>\n",
       "      <td>39</td>\n",
       "      <td>True</td>\n",
       "    </tr>\n",
       "  </tbody>\n",
       "</table>\n",
       "</div>"
      ],
      "text/plain": [
       "       A  B   C      D\n",
       "0  0.368  1  18   True\n",
       "1  0.545  0  32  False\n",
       "2  0.500  0  20  False\n",
       "3  0.533  1  23  False\n",
       "4  0.565  1  39   True"
      ]
     },
     "execution_count": 11,
     "metadata": {},
     "output_type": "execute_result"
    }
   ],
   "source": [
    "url = 'https://gist.githubusercontent.com/gabehope/fd56aac3893c16bdfad9a52def988247/raw/48bb003787efdfb779b93563352da01e10623971/quiz1_data.csv'\n",
    "df = pd.read_csv(url)\n",
    "df.head()"
   ]
  },
  {
   "cell_type": "markdown",
   "metadata": {},
   "source": [
    "## Q6: Choosing an appropriate model\n",
    "\n",
    "Assume that you are told that each observation represents a class at Harvey Mudd, and the variable `C` represents the **number of students** who registered for that class during pre-registration. Which of the following distributions would be *most appropriate* for modeling the distribution of `C` (the number of students registered):\n",
    "\n",
    "- Exponential distribution\n",
    "- Normal distribution\n",
    "- Poisson distribution\n",
    "- Categorical distribution\n",
    "\n",
    "Alternatively, assume that you are told that each observation represents hourly weather measurements at the summit of Mt. Baldy, with the variable `C` representing the **temperature**. In this case, which of the following distributions would be *most appropriate* for modeling the distribution of `C` (temperature):\n",
    "\n",
    "- Exponential distribution\n",
    "- Normal distribution\n",
    "- Poisson distribution\n",
    "- Categorical distribution"
   ]
  },
  {
   "cell_type": "markdown",
   "metadata": {},
   "source": [
    "## Q7: Discrete parameter estimation\n",
    "\n",
    "Assume that you choose to model the variable `C` using a **Poisson distribution**. What is the *rate parameter* for the Poisson distribution that best fits the observations of the variable `C`? (Under the *maximum likelihood principle*)"
   ]
  },
  {
   "cell_type": "markdown",
   "metadata": {},
   "source": [
    "## Q8: Predicting future events"
   ]
  },
  {
   "cell_type": "markdown",
   "metadata": {},
   "source": [
    "Assume you decide to model `C` using a Poisson distribution with a rate of **$\\lambda = 30$**. What would you estimate as the probability that a new measurement of `C` will be $> 32$? \n",
    "\n",
    "***Note:** You can use `scipy.stats.poisson` to perform the relevant calculation*"
   ]
  },
  {
   "cell_type": "markdown",
   "metadata": {},
   "source": [
    "## Q9: Continuous parameter estimation"
   ]
  },
  {
   "cell_type": "markdown",
   "metadata": {},
   "source": [
    "Again using the *maximum likelihood principle*, find the mean ($\\mu$) and standard deviation ($\\sigma$) parameters for a *Normal* distribution that best fits the variable `C`. What are these optimal parameters?"
   ]
  },
  {
   "cell_type": "markdown",
   "metadata": {},
   "source": [
    "## Q10: Rethinking our assumptions\n",
    "\n",
    "It turns out that this dataset is actually per-game statistics for Lebron James over the last 5 NBA seasons. Column `C` is the number of points scored in each game. Given this new knowledge, why might we **not** want to use the Poisson distribution you fit above to predict Lebron's points scored in the first game of the 2024-2025 season?\n",
    "\n",
    "- The Poisson distribution models continuous data, not discrete counts.\n",
    "- The true rate parameter may be changing over time.\n",
    "- Maximum likelihood is not a good way to estimate the parameters of a distribution.\n",
    "- Lebron James is retiring and won't play this season."
   ]
  }
 ],
 "metadata": {
  "kernelspec": {
   "display_name": "Python 3",
   "language": "python",
   "name": "python3"
  },
  "language_info": {
   "codemirror_mode": {
    "name": "ipython",
    "version": 3
   },
   "file_extension": ".py",
   "mimetype": "text/x-python",
   "name": "python",
   "nbconvert_exporter": "python",
   "pygments_lexer": "ipython3",
   "version": "3.12.4"
  }
 },
 "nbformat": 4,
 "nbformat_minor": 2
}
