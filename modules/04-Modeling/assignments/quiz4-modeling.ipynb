{
 "cells": [
  {
   "cell_type": "markdown",
   "metadata": {},
   "source": [
    "# Quiz 4"
   ]
  },
  {
   "cell_type": "code",
   "execution_count": 3,
   "metadata": {},
   "outputs": [
    {
     "data": {
      "text/html": [
       "\n",
       "            <div id=\"Hdl3x5\"></div>\n",
       "            <script type=\"text/javascript\" data-lets-plot-script=\"library\">\n",
       "                if(!window.letsPlotCallQueue) {\n",
       "                    window.letsPlotCallQueue = [];\n",
       "                }; \n",
       "                window.letsPlotCall = function(f) {\n",
       "                    window.letsPlotCallQueue.push(f);\n",
       "                };\n",
       "                (function() {\n",
       "                    var script = document.createElement(\"script\");\n",
       "                    script.type = \"text/javascript\";\n",
       "                    script.src = \"https://cdn.jsdelivr.net/gh/JetBrains/lets-plot@v4.3.3/js-package/distr/lets-plot.min.js\";\n",
       "                    script.onload = function() {\n",
       "                        window.letsPlotCall = function(f) {f();};\n",
       "                        window.letsPlotCallQueue.forEach(function(f) {f();});\n",
       "                        window.letsPlotCallQueue = [];\n",
       "                        \n",
       "                    };\n",
       "                    script.onerror = function(event) {\n",
       "                        window.letsPlotCall = function(f) {};    // noop\n",
       "                        window.letsPlotCallQueue = [];\n",
       "                        var div = document.createElement(\"div\");\n",
       "                        div.style.color = 'darkred';\n",
       "                        div.textContent = 'Error loading Lets-Plot JS';\n",
       "                        document.getElementById(\"Hdl3x5\").appendChild(div);\n",
       "                    };\n",
       "                    var e = document.getElementById(\"Hdl3x5\");\n",
       "                    e.appendChild(script);\n",
       "                })()\n",
       "            </script>\n",
       "            "
      ]
     },
     "metadata": {},
     "output_type": "display_data"
    }
   ],
   "source": [
    "import numpy as np\n",
    "import pandas as pd\n",
    "import scipy\n",
    "from vega_datasets import data\n",
    "from IPython.display import display, SVG\n",
    "from lets_plot import *\n",
    "from sklearn.linear_model import LinearRegression\n",
    "from lets_plot.mapping import as_discrete\n",
    "import seaborn as sns\n",
    "LetsPlot.setup_html()"
   ]
  },
  {
   "cell_type": "markdown",
   "metadata": {},
   "source": [
    "# Part 1: Fixing models"
   ]
  },
  {
   "cell_type": "markdown",
   "metadata": {},
   "source": [
    "The following question uses this dataset of measurements of penguin bills. One goal of this dataset is to determine the species of a penguin from its bill. In the visualization below, we can see that the 3 species are relatively well separated by these measurements. In practice though, we may not know which penguin belongs to which species. In this case we may want to try to find species by *clustering* our measurements. \n",
    "\n",
    "*This data was collected by Dr. Kristen Gorman at the Palmer Station in Antarctica.*"
   ]
  },
  {
   "cell_type": "code",
   "execution_count": 2,
   "metadata": {},
   "outputs": [
    {
     "data": {
      "text/html": [
       "   <div id=\"LZk1lw\"></div>\n",
       "   <script type=\"text/javascript\" data-lets-plot-script=\"plot\">\n",
       "       (function() {\n",
       "           var plotSpec={\n",
       "\"data\":{\n",
       "\"body_mass_g\":[3750.0,3650.0,4675.0,3800.0,4400.0,4500.0,4200.0,3600.0,3950.0,3800.0,3550.0,3950.0,3900.0,3900.0,4150.0,3950.0,4650.0,3900.0,4400.0,4600.0,3425.0,4150.0,4300.0,4050.0,3700.0,3800.0,3750.0,4400.0,4050.0,3950.0,4100.0,4450.0,3900.0,4150.0,4250.0,3900.0,4000.0,4700.0,4200.0,3550.0,3800.0,3950.0,4300.0,4450.0,4300.0,4350.0,4100.0,4725.0,4250.0,3550.0,3900.0,4775.0,4600.0,4275.0,4075.0,3775.0,3325.0,3500.0,3875.0,4000.0,4300.0,4000.0,3500.0,4475.0,3900.0,3975.0,4250.0,3475.0,3725.0,3650.0,4250.0,3750.0,4000.0,3900.0,3650.0,3725.0,3750.0,3700.0,3775.0,4050.0,4050.0,3300.0,4400.0,3400.0,3800.0,4150.0,3800.0,4550.0,4300.0,4100.0,3600.0,4800.0,4500.0,3950.0,3550.0,4450.0,4300.0,3250.0,3950.0,4050.0,3450.0,4050.0,3800.0,3950.0,4000.0,3775.0,4100.0,5700.0,5700.0,5400.0,5200.0,5150.0,5550.0,5850.0,5850.0,6300.0,5350.0,5700.0,5050.0,5100.0,5650.0,5550.0,5250.0,6050.0,5400.0,5250.0,5350.0,5700.0,4750.0,5550.0,5400.0,5300.0,5300.0,5000.0,5050.0,5000.0,5550.0,5300.0,5650.0,5700.0,5800.0,5550.0,5000.0,5100.0,5800.0,6000.0,5950.0,5450.0,5350.0,5600.0,5300.0,5550.0,5400.0,5650.0,5200.0,4925.0,5250.0,5600.0,5500.0,5500.0,5500.0,5500.0,5950.0,5500.0,5850.0,6000.0,5750.0,5400.0],\n",
       "\"bill_length_mm\":[39.1,39.3,39.2,38.6,34.6,42.5,46.0,37.7,38.2,38.8,40.6,40.5,37.2,40.9,39.2,38.8,39.8,40.8,44.1,39.6,41.1,42.3,40.1,42.0,41.4,40.6,37.6,41.3,41.1,41.6,41.1,41.8,39.7,45.8,42.8,37.2,42.1,42.9,35.1,41.3,36.3,38.3,41.1,39.6,40.8,40.3,43.2,41.0,37.8,39.7,38.2,43.2,45.6,42.2,42.7,37.3,41.1,37.7,41.4,40.6,41.5,44.1,43.1,37.5,41.1,40.2,39.7,40.6,40.7,39.0,39.2,37.8,41.5,50.0,51.3,52.7,51.3,51.3,51.7,52.0,50.5,50.3,49.2,48.5,50.6,52.0,49.5,52.8,54.2,51.0,49.7,52.0,53.5,49.0,50.9,50.8,49.0,51.5,51.4,50.7,52.2,49.3,50.2,51.9,55.8,49.6,50.8,50.0,50.0,47.6,46.7,46.8,49.0,48.4,49.3,49.2,48.7,50.2,46.3,46.1,47.8,50.0,47.3,59.6,48.4,44.4,48.7,49.6,49.6,50.5,50.5,45.2,48.5,50.1,45.0,45.5,50.4,46.2,54.3,49.8,49.5,50.7,46.4,48.2,48.6,51.1,45.2,52.5,50.0,50.8,51.3,52.1,52.2,49.5,50.8,49.4,51.1,55.9,49.1,46.8,53.4,48.1,49.8,51.5,55.1,48.8,50.4,49.9],\n",
       "\"species\":[\"Adelie\",\"Adelie\",\"Adelie\",\"Adelie\",\"Adelie\",\"Adelie\",\"Adelie\",\"Adelie\",\"Adelie\",\"Adelie\",\"Adelie\",\"Adelie\",\"Adelie\",\"Adelie\",\"Adelie\",\"Adelie\",\"Adelie\",\"Adelie\",\"Adelie\",\"Adelie\",\"Adelie\",\"Adelie\",\"Adelie\",\"Adelie\",\"Adelie\",\"Adelie\",\"Adelie\",\"Adelie\",\"Adelie\",\"Adelie\",\"Adelie\",\"Adelie\",\"Adelie\",\"Adelie\",\"Adelie\",\"Adelie\",\"Adelie\",\"Adelie\",\"Adelie\",\"Adelie\",\"Adelie\",\"Adelie\",\"Adelie\",\"Adelie\",\"Adelie\",\"Adelie\",\"Adelie\",\"Adelie\",\"Adelie\",\"Adelie\",\"Adelie\",\"Adelie\",\"Adelie\",\"Adelie\",\"Adelie\",\"Adelie\",\"Adelie\",\"Adelie\",\"Adelie\",\"Adelie\",\"Adelie\",\"Adelie\",\"Adelie\",\"Adelie\",\"Adelie\",\"Adelie\",\"Adelie\",\"Adelie\",\"Adelie\",\"Adelie\",\"Adelie\",\"Adelie\",\"Adelie\",\"Chinstrap\",\"Chinstrap\",\"Chinstrap\",\"Chinstrap\",\"Chinstrap\",\"Chinstrap\",\"Chinstrap\",\"Chinstrap\",\"Chinstrap\",\"Chinstrap\",\"Chinstrap\",\"Chinstrap\",\"Chinstrap\",\"Chinstrap\",\"Chinstrap\",\"Chinstrap\",\"Chinstrap\",\"Chinstrap\",\"Chinstrap\",\"Chinstrap\",\"Chinstrap\",\"Chinstrap\",\"Chinstrap\",\"Chinstrap\",\"Chinstrap\",\"Chinstrap\",\"Chinstrap\",\"Chinstrap\",\"Chinstrap\",\"Chinstrap\",\"Chinstrap\",\"Chinstrap\",\"Chinstrap\",\"Chinstrap\",\"Gentoo\",\"Gentoo\",\"Gentoo\",\"Gentoo\",\"Gentoo\",\"Gentoo\",\"Gentoo\",\"Gentoo\",\"Gentoo\",\"Gentoo\",\"Gentoo\",\"Gentoo\",\"Gentoo\",\"Gentoo\",\"Gentoo\",\"Gentoo\",\"Gentoo\",\"Gentoo\",\"Gentoo\",\"Gentoo\",\"Gentoo\",\"Gentoo\",\"Gentoo\",\"Gentoo\",\"Gentoo\",\"Gentoo\",\"Gentoo\",\"Gentoo\",\"Gentoo\",\"Gentoo\",\"Gentoo\",\"Gentoo\",\"Gentoo\",\"Gentoo\",\"Gentoo\",\"Gentoo\",\"Gentoo\",\"Gentoo\",\"Gentoo\",\"Gentoo\",\"Gentoo\",\"Gentoo\",\"Gentoo\",\"Gentoo\",\"Gentoo\",\"Gentoo\",\"Gentoo\",\"Gentoo\",\"Gentoo\",\"Gentoo\",\"Gentoo\",\"Gentoo\",\"Gentoo\",\"Gentoo\",\"Gentoo\",\"Gentoo\",\"Gentoo\",\"Gentoo\",\"Gentoo\",\"Gentoo\",\"Gentoo\"]\n",
       "},\n",
       "\"mapping\":{\n",
       "\"x\":\"body_mass_g\",\n",
       "\"y\":\"bill_length_mm\",\n",
       "\"shape\":\"species\",\n",
       "\"color\":\"species\"\n",
       "},\n",
       "\"data_meta\":{\n",
       "\"mapping_annotations\":[{\n",
       "\"aes\":\"shape\",\n",
       "\"annotation\":\"as_discrete\",\n",
       "\"parameters\":{\n",
       "\"label\":\"species\",\n",
       "\"order\":1.0\n",
       "}\n",
       "},{\n",
       "\"aes\":\"color\",\n",
       "\"annotation\":\"as_discrete\",\n",
       "\"parameters\":{\n",
       "\"label\":\"species\",\n",
       "\"order\":1.0\n",
       "}\n",
       "}]\n",
       "},\n",
       "\"kind\":\"plot\",\n",
       "\"scales\":[{\n",
       "\"aesthetic\":\"color\",\n",
       "\"palette\":\"Set2\",\n",
       "\"scale_mapper_kind\":\"color_brewer\"\n",
       "}],\n",
       "\"layers\":[{\n",
       "\"geom\":\"point\",\n",
       "\"mapping\":{\n",
       "},\n",
       "\"data_meta\":{\n",
       "},\n",
       "\"data\":{\n",
       "}\n",
       "}],\n",
       "\"metainfo_list\":[]\n",
       "};\n",
       "           var plotContainer = document.getElementById(\"LZk1lw\");\n",
       "           window.letsPlotCall(function() {{\n",
       "               LetsPlot.buildPlotFromProcessedSpecs(plotSpec, -1, -1, plotContainer);\n",
       "           }});\n",
       "       })();\n",
       "   </script>"
      ],
      "text/plain": [
       "<lets_plot.plot.core.PlotSpec at 0x2a2137f50>"
      ]
     },
     "execution_count": 2,
     "metadata": {},
     "output_type": "execute_result"
    }
   ],
   "source": [
    "penguins = sns.load_dataset(\"penguins\")\n",
    "penguins = penguins[(penguins['sex'] == 'Male')][['body_mass_g', 'bill_length_mm', 'species']].dropna()\n",
    "\n",
    "ggplot(penguins, aes(x='body_mass_g', y='bill_length_mm', shape=as_discrete('species', order=1), color=as_discrete('species', order=1))) + \\\n",
    "    geom_point() +\\\n",
    "    scale_color_brewer(palette=\"Set2\")"
   ]
  },
  {
   "cell_type": "markdown",
   "metadata": {},
   "source": [
    "## Q1: Issues with K-means\n",
    "\n",
    "The code below runs k-means on the penguins dataset, this time using the variables `bill_length_mm` and `body_weight_g`. Notice that despite the 3 species seeming to be well-separated in the visualization above, K-means does a poor job at recovering the 3 clusters.  "
   ]
  },
  {
   "cell_type": "code",
   "execution_count": 3,
   "metadata": {},
   "outputs": [
    {
     "data": {
      "text/html": [
       "   <div id=\"uFx6Cs\"></div>\n",
       "   <script type=\"text/javascript\" data-lets-plot-script=\"plot\">\n",
       "       (function() {\n",
       "           var plotSpec={\n",
       "\"data\":{\n",
       "\"bill_length_mm\":[39.1,39.3,39.2,38.6,34.6,42.5,46.0,37.7,38.2,38.8,40.6,40.5,37.2,40.9,39.2,38.8,39.8,40.8,44.1,39.6,41.1,42.3,40.1,42.0,41.4,40.6,37.6,41.3,41.1,41.6,41.1,41.8,39.7,45.8,42.8,37.2,42.1,42.9,35.1,41.3,36.3,38.3,41.1,39.6,40.8,40.3,43.2,41.0,37.8,39.7,38.2,43.2,45.6,42.2,42.7,37.3,41.1,37.7,41.4,40.6,41.5,44.1,43.1,37.5,41.1,40.2,39.7,40.6,40.7,39.0,39.2,37.8,41.5,50.0,51.3,52.7,51.3,51.3,51.7,52.0,50.5,50.3,49.2,48.5,50.6,52.0,49.5,52.8,54.2,51.0,49.7,52.0,53.5,49.0,50.9,50.8,49.0,51.5,51.4,50.7,52.2,49.3,50.2,51.9,55.8,49.6,50.8,50.0,50.0,47.6,46.7,46.8,49.0,48.4,49.3,49.2,48.7,50.2,46.3,46.1,47.8,50.0,47.3,59.6,48.4,44.4,48.7,49.6,49.6,50.5,50.5,45.2,48.5,50.1,45.0,45.5,50.4,46.2,54.3,49.8,49.5,50.7,46.4,48.2,48.6,51.1,45.2,52.5,50.0,50.8,51.3,52.1,52.2,49.5,50.8,49.4,51.1,55.9,49.1,46.8,53.4,48.1,49.8,51.5,55.1,48.8,50.4,49.9],\n",
       "\"body_mass_g\":[3750.0,3650.0,4675.0,3800.0,4400.0,4500.0,4200.0,3600.0,3950.0,3800.0,3550.0,3950.0,3900.0,3900.0,4150.0,3950.0,4650.0,3900.0,4400.0,4600.0,3425.0,4150.0,4300.0,4050.0,3700.0,3800.0,3750.0,4400.0,4050.0,3950.0,4100.0,4450.0,3900.0,4150.0,4250.0,3900.0,4000.0,4700.0,4200.0,3550.0,3800.0,3950.0,4300.0,4450.0,4300.0,4350.0,4100.0,4725.0,4250.0,3550.0,3900.0,4775.0,4600.0,4275.0,4075.0,3775.0,3325.0,3500.0,3875.0,4000.0,4300.0,4000.0,3500.0,4475.0,3900.0,3975.0,4250.0,3475.0,3725.0,3650.0,4250.0,3750.0,4000.0,3900.0,3650.0,3725.0,3750.0,3700.0,3775.0,4050.0,4050.0,3300.0,4400.0,3400.0,3800.0,4150.0,3800.0,4550.0,4300.0,4100.0,3600.0,4800.0,4500.0,3950.0,3550.0,4450.0,4300.0,3250.0,3950.0,4050.0,3450.0,4050.0,3800.0,3950.0,4000.0,3775.0,4100.0,5700.0,5700.0,5400.0,5200.0,5150.0,5550.0,5850.0,5850.0,6300.0,5350.0,5700.0,5050.0,5100.0,5650.0,5550.0,5250.0,6050.0,5400.0,5250.0,5350.0,5700.0,4750.0,5550.0,5400.0,5300.0,5300.0,5000.0,5050.0,5000.0,5550.0,5300.0,5650.0,5700.0,5800.0,5550.0,5000.0,5100.0,5800.0,6000.0,5950.0,5450.0,5350.0,5600.0,5300.0,5550.0,5400.0,5650.0,5200.0,4925.0,5250.0,5600.0,5500.0,5500.0,5500.0,5500.0,5950.0,5500.0,5850.0,6000.0,5750.0,5400.0],\n",
       "\"cluster\":[0.0,0.0,2.0,0.0,2.0,2.0,2.0,0.0,0.0,0.0,0.0,0.0,0.0,0.0,2.0,0.0,2.0,0.0,2.0,2.0,0.0,2.0,2.0,0.0,0.0,0.0,0.0,2.0,0.0,0.0,0.0,2.0,0.0,2.0,2.0,0.0,0.0,2.0,2.0,0.0,0.0,0.0,2.0,2.0,2.0,2.0,0.0,2.0,2.0,0.0,0.0,2.0,2.0,2.0,0.0,0.0,0.0,0.0,0.0,0.0,2.0,0.0,0.0,2.0,0.0,0.0,2.0,0.0,0.0,0.0,2.0,0.0,0.0,0.0,0.0,0.0,0.0,0.0,0.0,0.0,0.0,0.0,2.0,0.0,0.0,2.0,0.0,2.0,2.0,0.0,0.0,2.0,2.0,0.0,0.0,2.0,2.0,0.0,0.0,0.0,0.0,0.0,0.0,0.0,0.0,0.0,0.0,1.0,1.0,1.0,1.0,1.0,1.0,1.0,1.0,1.0,1.0,1.0,1.0,1.0,1.0,1.0,1.0,1.0,1.0,1.0,1.0,1.0,2.0,1.0,1.0,1.0,1.0,1.0,1.0,1.0,1.0,1.0,1.0,1.0,1.0,1.0,1.0,1.0,1.0,1.0,1.0,1.0,1.0,1.0,1.0,1.0,1.0,1.0,1.0,2.0,1.0,1.0,1.0,1.0,1.0,1.0,1.0,1.0,1.0,1.0,1.0,1.0]\n",
       "},\n",
       "\"mapping\":{\n",
       "\"x\":\"body_mass_g\",\n",
       "\"y\":\"bill_length_mm\",\n",
       "\"shape\":\"cluster\",\n",
       "\"color\":\"cluster\"\n",
       "},\n",
       "\"data_meta\":{\n",
       "\"mapping_annotations\":[{\n",
       "\"aes\":\"shape\",\n",
       "\"annotation\":\"as_discrete\",\n",
       "\"parameters\":{\n",
       "\"label\":\"cluster\",\n",
       "\"order\":1.0\n",
       "}\n",
       "},{\n",
       "\"aes\":\"color\",\n",
       "\"annotation\":\"as_discrete\",\n",
       "\"parameters\":{\n",
       "\"label\":\"cluster\",\n",
       "\"order\":1.0\n",
       "}\n",
       "}]\n",
       "},\n",
       "\"kind\":\"plot\",\n",
       "\"scales\":[{\n",
       "\"aesthetic\":\"color\",\n",
       "\"palette\":\"Set2\",\n",
       "\"scale_mapper_kind\":\"color_brewer\"\n",
       "}],\n",
       "\"layers\":[{\n",
       "\"geom\":\"point\",\n",
       "\"mapping\":{\n",
       "},\n",
       "\"data_meta\":{\n",
       "},\n",
       "\"data\":{\n",
       "}\n",
       "}],\n",
       "\"metainfo_list\":[]\n",
       "};\n",
       "           var plotContainer = document.getElementById(\"uFx6Cs\");\n",
       "           window.letsPlotCall(function() {{\n",
       "               LetsPlot.buildPlotFromProcessedSpecs(plotSpec, -1, -1, plotContainer);\n",
       "           }});\n",
       "       })();\n",
       "   </script>"
      ],
      "text/plain": [
       "<lets_plot.plot.core.PlotSpec at 0x12ab353a0>"
      ]
     },
     "execution_count": 3,
     "metadata": {},
     "output_type": "execute_result"
    }
   ],
   "source": [
    "from sklearn.metrics import pairwise_distances\n",
    "measurements_only = penguins[['bill_length_mm', 'body_mass_g']]\n",
    "\n",
    "num_clusters = 3\n",
    "np.random.seed(55)\n",
    "measurements_with_clusters = measurements_only.copy()\n",
    "measurements_with_clusters['cluster'] = np.random.randint(0, num_clusters, (measurements_only.shape[0],))\n",
    "\n",
    "for iteration in range(10):\n",
    "    centroids = measurements_with_clusters.groupby('cluster').mean()\n",
    "    distances = pairwise_distances(measurements_only, centroids)\n",
    "    measurements_with_clusters['cluster'] = distances.argmin(axis=1)\n",
    "\n",
    "\n",
    "ggplot(measurements_with_clusters, aes(x='body_mass_g', y='bill_length_mm', shape=as_discrete('cluster', order=1), color=as_discrete('cluster', order=1))) + \\\n",
    "    geom_point() +\\\n",
    "    scale_color_brewer(palette=\"Set2\")"
   ]
  },
  {
   "cell_type": "markdown",
   "metadata": {},
   "source": [
    "Identify the problem, and choose the **best** approach to resolve this issue. (*Feel free to test your approach!*)\n",
    "\n",
    "- **Standardize** the data.\n",
    "- Use the **k-medians** algorithm instead of k-means.\n",
    "- Increase the **number of clusters**.\n",
    "- Run k-means **multiple times**.\n",
    "- Take a **subset** of the data."
   ]
  },
  {
   "cell_type": "markdown",
   "metadata": {},
   "source": [
    "# Part 2: Preprocessing"
   ]
  },
  {
   "cell_type": "markdown",
   "metadata": {},
   "source": [
    "For the next few questions, we'll return to the Gapminder dataset that we looked at in previous assignments. As a reminder, this dataset tracks various economic, health and human developtment metrics for coutries around the world. In this case, we'll look at how location and economic indicators affect life expectency."
   ]
  },
  {
   "cell_type": "markdown",
   "metadata": {},
   "source": [
    "## Q2: Factor data"
   ]
  },
  {
   "cell_type": "markdown",
   "metadata": {},
   "source": [
    "We'll start with a very rough approach. Each country is given a label of one of four regions: `Africa`, `Americas`, `Asia` and `Europe`. Let's look how this region and average income predicts life expectency for the year 2019.\n",
    "\n",
    "Using the data in `lex_data` below, fit a regression model that predicts `life exp` **from** `region` and `income`. Under this model, what is the *change in life expectency* when changing a country's region from **Africa** to **Europe** (holding income constant)?\n",
    "\n",
    "What would the difference be if our model did **not** account for `income`?"
   ]
  },
  {
   "cell_type": "code",
   "execution_count": 113,
   "metadata": {},
   "outputs": [
    {
     "data": {
      "text/html": [
       "   <div id=\"Homzv6\"></div>\n",
       "   <script type=\"text/javascript\" data-lets-plot-script=\"plot\">\n",
       "       (function() {\n",
       "           var plotSpec={\n",
       "\"data\":{\n",
       "\"name\":[\"Australia\",\"Brunei\",\"Cambodia\",\"China\",\"Fiji\",\"Hong Kong, China\",\"Indonesia\",\"Japan\",\"Kiribati\",\"North Korea\",\"South Korea\",\"Lao\",\"Malaysia\",\"Marshall Islands\",\"Micronesia, Fed. Sts.\",\"Mongolia\",\"Myanmar\",\"Nauru\",\"New Zealand\",\"Palau\",\"Papua New Guinea\",\"Philippines\",\"Samoa\",\"Singapore\",\"Solomon Islands\",\"Taiwan\",\"Thailand\",\"Timor-Leste\",\"Tonga\",\"Tuvalu\",\"Vanuatu\",\"Vietnam\",\"Albania\",\"Andorra\",\"Armenia\",\"Austria\",\"Azerbaijan\",\"Belarus\",\"Belgium\",\"Bosnia and Herzegovina\",\"Bulgaria\",\"Croatia\",\"Cyprus\",\"Czech Republic\",\"Denmark\",\"Estonia\",\"Finland\",\"France\",\"Georgia\",\"Germany\",\"Greece\",\"Hungary\",\"Iceland\",\"Ireland\",\"Italy\",\"Kazakhstan\",\"Kyrgyz Republic\",\"Latvia\",\"Lithuania\",\"Luxembourg\",\"Moldova\",\"Monaco\",\"Montenegro\",\"Netherlands\",\"Norway\",\"Poland\",\"Portugal\",\"Romania\",\"Russia\",\"San Marino\",\"Serbia\",\"Slovak Republic\",\"Slovenia\",\"Spain\",\"Sweden\",\"Switzerland\",\"Tajikistan\",\"Turkey\",\"Turkmenistan\",\"Ukraine\",\"Uzbekistan\",\"Antigua and Barbuda\",\"Argentina\",\"Bahamas\",\"Barbados\",\"Belize\",\"Bolivia\",\"Brazil\",\"Chile\",\"Colombia\",\"Costa Rica\",\"Cuba\",\"Dominica\",\"Dominican Republic\",\"Ecuador\",\"El Salvador\",\"Grenada\",\"Guatemala\",\"Guyana\",\"Haiti\",\"Honduras\",\"Jamaica\",\"Mexico\",\"Nicaragua\",\"Panama\",\"Paraguay\",\"Peru\",\"St. Kitts and Nevis\",\"St. Lucia\",\"St. Vincent and the Grenadines\",\"Suriname\",\"Trinidad and Tobago\",\"Uruguay\",\"Venezuela\",\"Algeria\",\"Bahrain\",\"Djibouti\",\"Egypt\",\"Iran\",\"Iraq\",\"Israel\",\"Jordan\",\"Kuwait\",\"Lebanon\",\"Libya\",\"Malta\",\"Morocco\",\"Oman\",\"Qatar\",\"Saudi Arabia\",\"Syria\",\"Tunisia\",\"Palestine\",\"Yemen\",\"Canada\",\"Afghanistan\",\"Bangladesh\",\"Bhutan\",\"India\",\"Maldives\",\"Nepal\",\"Pakistan\",\"Sri Lanka\",\"Angola\",\"Benin\",\"Botswana\",\"Burkina Faso\",\"Burundi\",\"Cameroon\",\"Cape Verde\",\"Central African Republic\",\"Chad\",\"Comoros\",\"Congo, Dem. Rep.\",\"Congo, Rep.\",\"Cote d'Ivoire\",\"Equatorial Guinea\",\"Eritrea\",\"Ethiopia\",\"Gabon\",\"Gambia\",\"Ghana\",\"Guinea\",\"Guinea-Bissau\",\"Kenya\",\"Lesotho\",\"Liberia\",\"Madagascar\",\"Malawi\",\"Mali\",\"Mauritania\",\"Mauritius\",\"Mozambique\",\"Namibia\",\"Niger\",\"Nigeria\",\"Rwanda\",\"Sao Tome and Principe\",\"Senegal\",\"Seychelles\",\"Sierra Leone\",\"Somalia\",\"South Africa\",\"Sudan\",\"Tanzania\",\"Togo\",\"Uganda\",\"Zambia\",\"Zimbabwe\",\"South Sudan\"],\n",
       "\"region\":[\"asia\",\"asia\",\"asia\",\"asia\",\"asia\",\"asia\",\"asia\",\"asia\",\"asia\",\"asia\",\"asia\",\"asia\",\"asia\",\"asia\",\"asia\",\"asia\",\"asia\",\"asia\",\"asia\",\"asia\",\"asia\",\"asia\",\"asia\",\"asia\",\"asia\",\"asia\",\"asia\",\"asia\",\"asia\",\"asia\",\"asia\",\"asia\",\"europe\",\"europe\",\"europe\",\"europe\",\"europe\",\"europe\",\"europe\",\"europe\",\"europe\",\"europe\",\"europe\",\"europe\",\"europe\",\"europe\",\"europe\",\"europe\",\"europe\",\"europe\",\"europe\",\"europe\",\"europe\",\"europe\",\"europe\",\"asia\",\"asia\",\"europe\",\"europe\",\"europe\",\"europe\",\"europe\",\"europe\",\"europe\",\"europe\",\"europe\",\"europe\",\"europe\",\"europe\",\"europe\",\"europe\",\"europe\",\"europe\",\"europe\",\"europe\",\"europe\",\"asia\",\"europe\",\"asia\",\"europe\",\"asia\",\"americas\",\"americas\",\"americas\",\"americas\",\"americas\",\"americas\",\"americas\",\"americas\",\"americas\",\"americas\",\"americas\",\"americas\",\"americas\",\"americas\",\"americas\",\"americas\",\"americas\",\"americas\",\"americas\",\"americas\",\"americas\",\"americas\",\"americas\",\"americas\",\"americas\",\"americas\",\"americas\",\"americas\",\"americas\",\"americas\",\"americas\",\"americas\",\"americas\",\"africa\",\"asia\",\"africa\",\"africa\",\"asia\",\"asia\",\"asia\",\"asia\",\"asia\",\"asia\",\"africa\",\"europe\",\"africa\",\"asia\",\"asia\",\"asia\",\"asia\",\"africa\",\"asia\",\"asia\",\"americas\",\"asia\",\"asia\",\"asia\",\"asia\",\"asia\",\"asia\",\"asia\",\"asia\",\"africa\",\"africa\",\"africa\",\"africa\",\"africa\",\"africa\",\"africa\",\"africa\",\"africa\",\"africa\",\"africa\",\"africa\",\"africa\",\"africa\",\"africa\",\"africa\",\"africa\",\"africa\",\"africa\",\"africa\",\"africa\",\"africa\",\"africa\",\"africa\",\"africa\",\"africa\",\"africa\",\"africa\",\"africa\",\"africa\",\"africa\",\"africa\",\"africa\",\"africa\",\"africa\",\"africa\",\"africa\",\"africa\",\"africa\",\"africa\",\"africa\",\"africa\",\"africa\",\"africa\",\"africa\",\"africa\",\"africa\"],\n",
       "\"life exp\":[82.9,74.4,69.9,77.6,68.4,85.3,71.4,84.8,60.8,73.2,82.9,69.0,75.0,65.5,64.1,68.1,69.5,63.4,81.8,67.5,64.7,71.8,70.5,84.8,59.2,80.3,78.4,70.6,73.0,67.9,65.5,74.5,78.5,82.2,75.7,82.2,71.0,74.0,81.4,77.0,73.3,78.7,80.8,79.5,81.1,78.0,81.9,82.9,73.4,81.2,80.9,76.6,84.1,82.0,83.1,71.9,73.4,75.9,76.2,82.9,74.3,80.1,75.9,81.7,82.9,78.1,81.7,75.5,73.0,82.2,75.7,77.6,81.4,83.1,82.8,84.0,69.6,78.4,70.8,73.8,68.4,76.3,76.6,73.4,76.2,74.5,72.0,75.8,80.2,80.2,80.1,78.7,72.3,73.2,76.4,75.7,73.3,72.6,67.3,63.8,72.1,76.3,75.6,75.4,80.0,76.6,80.3,72.1,75.1,73.0,72.7,74.9,77.5,75.0,76.2,77.0,66.8,71.0,77.8,73.3,83.0,78.2,81.5,76.6,75.9,82.6,73.3,74.0,76.3,74.5,73.9,77.7,74.8,67.7,82.2,63.3,74.5,73.2,70.8,79.1,71.1,65.9,77.3,65.1,64.5,62.3,61.7,63.8,63.4,73.7,52.4,60.4,68.7,65.0,65.4,64.3,66.0,63.8,68.8,67.8,66.7,66.3,61.2,61.0,66.5,51.8,66.1,65.5,64.7,61.8,70.8,75.5,58.4,65.2,62.5,64.3,68.7,70.9,68.5,73.6,61.8,58.5,65.1,70.5,67.2,65.0,66.2,63.2,61.0,63.7],\n",
       "\"income\":[65.0,64.0,5.83,14.2,7.91,62.1,7.34,52.4,6.25,4.0,46.4,6.78,33.8,11.6,5.82,10.2,7.37,8.04,43.6,18.3,4.44,8.0,11.4,117.0,4.17,50.0,16.0,4.0,9.5,12.1,5.43,14.2,13.7,61.9,7.91,66.2,19.2,19.1,59.0,28.8,27.4,29.1,51.6,39.4,62.7,41.0,58.8,56.2,7.97,65.9,28.5,28.3,64.0,55.8,49.9,12.8,7.09,32.9,38.4,84.5,12.1,71.6,17.7,62.7,74.1,28.0,35.3,21.5,23.7,60.3,16.6,26.0,43.4,46.9,57.7,77.4,7.87,22.2,12.8,14.9,3.4,22.6,21.7,33.5,16.1,8.63,19.6,21.1,25.3,15.5,25.5,11.8,13.0,16.5,15.4,13.0,15.6,10.3,14.6,3.97,10.1,15.4,14.3,11.7,33.5,19.5,13.8,30.6,20.9,14.4,18.6,26.0,28.8,5.0,9.65,51.0,5.83,6.76,14.5,12.6,41.9,13.6,48.2,27.6,22.3,54.5,11.8,33.5,105.0,48.0,6.37,14.2,13.4,2.51,65.7,4.62,4.7,12.5,4.97,18.7,7.59,5.02,9.25,5.26,4.84,9.75,4.41,2.03,6.12,11.1,2.35,3.81,6.64,2.38,3.44,5.88,16.4,2.96,4.66,12.3,5.09,5.84,4.53,4.29,3.64,4.43,3.71,1.68,2.07,5.0,6.92,17.7,2.1,10.8,2.91,3.65,3.54,5.57,6.09,23.1,4.0,2.76,11.8,3.95,3.38,4.66,3.52,2.98,4.5,1.83]\n",
       "},\n",
       "\"mapping\":{\n",
       "\"x\":\"income\",\n",
       "\"y\":\"life exp\",\n",
       "\"color\":\"region\"\n",
       "},\n",
       "\"data_meta\":{\n",
       "},\n",
       "\"kind\":\"plot\",\n",
       "\"scales\":[],\n",
       "\"layers\":[{\n",
       "\"geom\":\"point\",\n",
       "\"mapping\":{\n",
       "},\n",
       "\"tooltips\":{\n",
       "\"formats\":[],\n",
       "\"variables\":[\"name\"]\n",
       "},\n",
       "\"data_meta\":{\n",
       "},\n",
       "\"data\":{\n",
       "}\n",
       "}],\n",
       "\"metainfo_list\":[]\n",
       "};\n",
       "           var plotContainer = document.getElementById(\"Homzv6\");\n",
       "           window.letsPlotCall(function() {{\n",
       "               LetsPlot.buildPlotFromProcessedSpecs(plotSpec, -1, -1, plotContainer);\n",
       "           }});\n",
       "       })();\n",
       "   </script>"
      ],
      "text/plain": [
       "<lets_plot.plot.core.PlotSpec at 0x2c24bc560>"
      ]
     },
     "execution_count": 113,
     "metadata": {},
     "output_type": "execute_result"
    }
   ],
   "source": [
    "countries = pd.read_csv('data/countries.csv')[['name', 'four_regions']].set_index('name').rename(columns={'four_regions': 'region'})\n",
    "countries['region'] = countries.region.astype('category')\n",
    "life_exp = pd.read_csv('data/lex.csv')[['country', '2019']].set_index('country').rename(columns={'2019': 'life exp'})\n",
    "income = pd.read_csv('data/income.csv')[['country', '2019']].set_index('country').rename(columns={'2019': 'income'})\n",
    "lex_data = countries.join(life_exp).join(income).dropna()\n",
    "\n",
    "ggplot(lex_data.reset_index(), aes(x='income', y='life exp', color='region')) + geom_point(tooltips=layer_tooltips(['name']))"
   ]
  },
  {
   "cell_type": "code",
   "execution_count": null,
   "metadata": {},
   "outputs": [],
   "source": [
    "y = lex_data['life exp']\n",
    "\n",
    "# Create a dataframe with only the appropriate, pre-processed inputs\n",
    "inputs = \n",
    "x = inputs.values.astype(float)\n",
    "\n",
    "model = LinearRegression().fit(x, y)\n",
    "print(list(zip(inputs.columns, model.coef_)))\n",
    "\n",
    "# Determine the answer to the question"
   ]
  },
  {
   "cell_type": "markdown",
   "metadata": {},
   "source": [
    "### Answer: \n",
    "\n",
    "Using the code below, we see that our model predicts that someone in Europe will live **7.29** years longer on average than someone in Africa. Without accounting for income, we would expect that someone in Europe would live **13.24** years longer."
   ]
  },
  {
   "cell_type": "code",
   "execution_count": 99,
   "metadata": {},
   "outputs": [
    {
     "name": "stdout",
     "output_type": "stream",
     "text": [
      "[('income', np.float64(0.1698422298358171)), ('region_africa', np.float64(-4.759524551712193)), ('region_americas', np.float64(2.4407878796344997)), ('region_asia', np.float64(-0.21874771041487953)), ('region_europe', np.float64(2.537484382492568))]\n"
     ]
    }
   ],
   "source": [
    "y = lex_data['life exp']\n",
    "inputs = pd.get_dummies(lex_data[['income', 'region']])\n",
    "x = inputs.values.astype(float)\n",
    "\n",
    "model = LinearRegression().fit(x, y)\n",
    "print(list(zip(inputs.columns, model.coef_)))"
   ]
  },
  {
   "cell_type": "code",
   "execution_count": 112,
   "metadata": {},
   "outputs": [
    {
     "name": "stdout",
     "output_type": "stream",
     "text": [
      "Difference incl. income: 7.2970089342047615\n",
      "Difference without income: 13.242725366876329\n"
     ]
    },
    {
     "name": "stderr",
     "output_type": "stream",
     "text": [
      "/var/folders/t9/fjsr8h1x7c7cg4vqw_xhjq2w0000gn/T/ipykernel_57949/3938476771.py:3: FutureWarning: The default of observed=False is deprecated and will be changed to True in a future version of pandas. Pass observed=False to retain current behavior or observed=True to adopt the future default and silence this warning.\n",
      "  europe_mean = lex_data.groupby('region').mean().loc['europe']['life exp']\n",
      "/var/folders/t9/fjsr8h1x7c7cg4vqw_xhjq2w0000gn/T/ipykernel_57949/3938476771.py:4: FutureWarning: The default of observed=False is deprecated and will be changed to True in a future version of pandas. Pass observed=False to retain current behavior or observed=True to adopt the future default and silence this warning.\n",
      "  africa_mean = lex_data.groupby('region').mean().loc['africa']['life exp']\n"
     ]
    }
   ],
   "source": [
    "print('Difference incl. income:', model.coef_[-1] - model.coef_[1])\n",
    "\n",
    "europe_mean = lex_data.groupby('region').mean().loc['europe']['life exp']\n",
    "africa_mean = lex_data.groupby('region').mean().loc['africa']['life exp']\n",
    "print('Difference without income:', europe_mean - africa_mean)"
   ]
  },
  {
   "cell_type": "markdown",
   "metadata": {},
   "source": [
    "## Q3 Preprocessing variables\n",
    "\n",
    "Look back to the `income` vs. `life exp` visualization from `q2`. \n",
    "\n",
    "Based on this plot what would you expect to be the most useful transformation of the `income` variable for our linear regression? (*Feel free to test the transforms in code!*)\n",
    "\n",
    "- Standardization\n",
    "- Imputation\n",
    "- Reciprocal transform\n",
    "- Log transform\n",
    "\n",
    "**Discussion:** Do you think that applying this transformation in the visualization above would aid or harm the interpret-ability of the plot?"
   ]
  },
  {
   "cell_type": "markdown",
   "metadata": {},
   "source": [
    "## Q4: Missing data\n",
    "\n",
    "We'll now try a more sophisticated model with more data, focusing on economic indicators. In this case we'll model `life exp` as a function of average `income`, human development `hdi`, and income inequality (measured by the `gini` index). We'll take 30 years of data from the from 1990 until 2019. The code below loads a dataframe with this data. Unfortunately we don't actually have measurements of these 3 variables for every country for every year! "
   ]
  },
  {
   "cell_type": "code",
   "execution_count": 134,
   "metadata": {},
   "outputs": [],
   "source": [
    "life_exp = pd.read_csv('data/lex.csv').melt(id_vars='country').rename(columns={'variable': 'year', 'value': 'life exp'}).set_index(['country', 'year'])\n",
    "income = pd.read_csv('data/income.csv').melt(id_vars='country').rename(columns={'variable': 'year', 'value': 'income'})\n",
    "gini = pd.read_csv('data/gini.csv').melt(id_vars='country').rename(columns={'variable': 'year', 'value': 'gini'})\n",
    "hdi = pd.read_csv('data/hdi_human_development_index.csv').melt(id_vars='country').rename(columns={'variable': 'year', 'value': 'hdi'})\n",
    "\n",
    "data = income.merge(life_exp, on=['country', 'year']).merge(gini, on=['country', 'year']).merge(hdi, on=['country', 'year']).set_index(['country', 'year'])\n"
   ]
  },
  {
   "cell_type": "markdown",
   "metadata": {},
   "source": [
    "Which variable of the 3 inputs in `data` has missing values?\n",
    "\n",
    "Based on the data, is it reasonable to assume that values are *missing completely at random*?\n",
    "\n",
    "- Yes\n",
    "- No\n",
    "\n",
    "*Remove observations* with missing values from the dataset and fit a linear regression model. What is `hdi` coefficient of this model?\n",
    "\n",
    "Fill in missing values with *mean imputation* and fit a linear regression model. What is `hdi` coefficient of this model?\n",
    "\n"
   ]
  },
  {
   "cell_type": "code",
   "execution_count": null,
   "metadata": {},
   "outputs": [],
   "source": [
    "fixed_data = \n",
    "\n",
    "x = fixed_data[['hdi', 'gini', 'income']].values.astype(float)\n",
    "y = fixed_data['life exp'].values.astype(float)\n",
    "fixed_data"
   ]
  },
  {
   "cell_type": "markdown",
   "metadata": {},
   "source": [
    "# Part 2: Tree-based models"
   ]
  },
  {
   "cell_type": "markdown",
   "metadata": {},
   "source": [
    "**Outline** Fill in the entropy formula for a recursive implementation of descision tree fitting. \n",
    "\n",
    "What is the depth of a tree that perfectly separates the data?\n",
    "\n",
    "What percentage of held-out data is correctly classified for the *tree* and for *logistic regression*?"
   ]
  },
  {
   "cell_type": "code",
   "execution_count": 1,
   "metadata": {},
   "outputs": [
    {
     "name": "stdout",
     "output_type": "stream",
     "text": [
      "{'uci_id': 45, 'name': 'Heart Disease', 'repository_url': 'https://archive.ics.uci.edu/dataset/45/heart+disease', 'data_url': 'https://archive.ics.uci.edu/static/public/45/data.csv', 'abstract': '4 databases: Cleveland, Hungary, Switzerland, and the VA Long Beach', 'area': 'Health and Medicine', 'tasks': ['Classification'], 'characteristics': ['Multivariate'], 'num_instances': 303, 'num_features': 13, 'feature_types': ['Categorical', 'Integer', 'Real'], 'demographics': ['Age', 'Sex'], 'target_col': ['num'], 'index_col': None, 'has_missing_values': 'yes', 'missing_values_symbol': 'NaN', 'year_of_dataset_creation': 1989, 'last_updated': 'Fri Nov 03 2023', 'dataset_doi': '10.24432/C52P4X', 'creators': ['Andras Janosi', 'William Steinbrunn', 'Matthias Pfisterer', 'Robert Detrano'], 'intro_paper': {'title': 'International application of a new probability algorithm for the diagnosis of coronary artery disease.', 'authors': 'R. Detrano, A. Jánosi, W. Steinbrunn, M. Pfisterer, J. Schmid, S. Sandhu, K. Guppy, S. Lee, V. Froelicher', 'published_in': 'American Journal of Cardiology', 'year': 1989, 'url': 'https://www.semanticscholar.org/paper/a7d714f8f87bfc41351eb5ae1e5472f0ebbe0574', 'doi': None}, 'additional_info': {'summary': 'This database contains 76 attributes, but all published experiments refer to using a subset of 14 of them.  In particular, the Cleveland database is the only one that has been used by ML researchers to date.  The \"goal\" field refers to the presence of heart disease in the patient.  It is integer valued from 0 (no presence) to 4. Experiments with the Cleveland database have concentrated on simply attempting to distinguish presence (values 1,2,3,4) from absence (value 0).  \\n   \\nThe names and social security numbers of the patients were recently removed from the database, replaced with dummy values.\\n\\nOne file has been \"processed\", that one containing the Cleveland database.  All four unprocessed files also exist in this directory.\\n\\nTo see Test Costs (donated by Peter Turney), please see the folder \"Costs\" ', 'purpose': None, 'funded_by': None, 'instances_represent': None, 'recommended_data_splits': None, 'sensitive_data': None, 'preprocessing_description': None, 'variable_info': 'Only 14 attributes used:\\r\\n      1. #3  (age)       \\r\\n      2. #4  (sex)       \\r\\n      3. #9  (cp)        \\r\\n      4. #10 (trestbps)  \\r\\n      5. #12 (chol)      \\r\\n      6. #16 (fbs)       \\r\\n      7. #19 (restecg)   \\r\\n      8. #32 (thalach)   \\r\\n      9. #38 (exang)     \\r\\n      10. #40 (oldpeak)   \\r\\n      11. #41 (slope)     \\r\\n      12. #44 (ca)        \\r\\n      13. #51 (thal)      \\r\\n      14. #58 (num)       (the predicted attribute)\\r\\n\\r\\nComplete attribute documentation:\\r\\n      1 id: patient identification number\\r\\n      2 ccf: social security number (I replaced this with a dummy value of 0)\\r\\n      3 age: age in years\\r\\n      4 sex: sex (1 = male; 0 = female)\\r\\n      5 painloc: chest pain location (1 = substernal; 0 = otherwise)\\r\\n      6 painexer (1 = provoked by exertion; 0 = otherwise)\\r\\n      7 relrest (1 = relieved after rest; 0 = otherwise)\\r\\n      8 pncaden (sum of 5, 6, and 7)\\r\\n      9 cp: chest pain type\\r\\n        -- Value 1: typical angina\\r\\n        -- Value 2: atypical angina\\r\\n        -- Value 3: non-anginal pain\\r\\n        -- Value 4: asymptomatic\\r\\n     10 trestbps: resting blood pressure (in mm Hg on admission to the hospital)\\r\\n     11 htn\\r\\n     12 chol: serum cholestoral in mg/dl\\r\\n     13 smoke: I believe this is 1 = yes; 0 = no (is or is not a smoker)\\r\\n     14 cigs (cigarettes per day)\\r\\n     15 years (number of years as a smoker)\\r\\n     16 fbs: (fasting blood sugar > 120 mg/dl)  (1 = true; 0 = false)\\r\\n     17 dm (1 = history of diabetes; 0 = no such history)\\r\\n     18 famhist: family history of coronary artery disease (1 = yes; 0 = no)\\r\\n     19 restecg: resting electrocardiographic results\\r\\n        -- Value 0: normal\\r\\n        -- Value 1: having ST-T wave abnormality (T wave inversions and/or ST elevation or depression of > 0.05 mV)\\r\\n        -- Value 2: showing probable or definite left ventricular hypertrophy by Estes\\' criteria\\r\\n     20 ekgmo (month of exercise ECG reading)\\r\\n     21 ekgday(day of exercise ECG reading)\\r\\n     22 ekgyr (year of exercise ECG reading)\\r\\n     23 dig (digitalis used furing exercise ECG: 1 = yes; 0 = no)\\r\\n     24 prop (Beta blocker used during exercise ECG: 1 = yes; 0 = no)\\r\\n     25 nitr (nitrates used during exercise ECG: 1 = yes; 0 = no)\\r\\n     26 pro (calcium channel blocker used during exercise ECG: 1 = yes; 0 = no)\\r\\n     27 diuretic (diuretic used used during exercise ECG: 1 = yes; 0 = no)\\r\\n     28 proto: exercise protocol\\r\\n          1 = Bruce     \\r\\n          2 = Kottus\\r\\n          3 = McHenry\\r\\n          4 = fast Balke\\r\\n          5 = Balke\\r\\n          6 = Noughton \\r\\n          7 = bike 150 kpa min/min  (Not sure if \"kpa min/min\" is what was written!)\\r\\n          8 = bike 125 kpa min/min  \\r\\n          9 = bike 100 kpa min/min\\r\\n         10 = bike 75 kpa min/min\\r\\n         11 = bike 50 kpa min/min\\r\\n         12 = arm ergometer\\r\\n     29 thaldur: duration of exercise test in minutes\\r\\n     30 thaltime: time when ST measure depression was noted\\r\\n     31 met: mets achieved\\r\\n     32 thalach: maximum heart rate achieved\\r\\n     33 thalrest: resting heart rate\\r\\n     34 tpeakbps: peak exercise blood pressure (first of 2 parts)\\r\\n     35 tpeakbpd: peak exercise blood pressure (second of 2 parts)\\r\\n     36 dummy\\r\\n     37 trestbpd: resting blood pressure\\r\\n     38 exang: exercise induced angina (1 = yes; 0 = no)\\r\\n     39 xhypo: (1 = yes; 0 = no)\\r\\n     40 oldpeak = ST depression induced by exercise relative to rest\\r\\n     41 slope: the slope of the peak exercise ST segment\\r\\n        -- Value 1: upsloping\\r\\n        -- Value 2: flat\\r\\n        -- Value 3: downsloping\\r\\n     42 rldv5: height at rest\\r\\n     43 rldv5e: height at peak exercise\\r\\n     44 ca: number of major vessels (0-3) colored by flourosopy\\r\\n     45 restckm: irrelevant\\r\\n     46 exerckm: irrelevant\\r\\n     47 restef: rest raidonuclid (sp?) ejection fraction\\r\\n     48 restwm: rest wall (sp?) motion abnormality\\r\\n        0 = none\\r\\n        1 = mild or moderate\\r\\n        2 = moderate or severe\\r\\n        3 = akinesis or dyskmem (sp?)\\r\\n     49 exeref: exercise radinalid (sp?) ejection fraction\\r\\n     50 exerwm: exercise wall (sp?) motion \\r\\n     51 thal: 3 = normal; 6 = fixed defect; 7 = reversable defect\\r\\n     52 thalsev: not used\\r\\n     53 thalpul: not used\\r\\n     54 earlobe: not used\\r\\n     55 cmo: month of cardiac cath (sp?)  (perhaps \"call\")\\r\\n     56 cday: day of cardiac cath (sp?)\\r\\n     57 cyr: year of cardiac cath (sp?)\\r\\n     58 num: diagnosis of heart disease (angiographic disease status)\\r\\n        -- Value 0: < 50% diameter narrowing\\r\\n        -- Value 1: > 50% diameter narrowing\\r\\n        (in any major vessel: attributes 59 through 68 are vessels)\\r\\n     59 lmt\\r\\n     60 ladprox\\r\\n     61 laddist\\r\\n     62 diag\\r\\n     63 cxmain\\r\\n     64 ramus\\r\\n     65 om1\\r\\n     66 om2\\r\\n     67 rcaprox\\r\\n     68 rcadist\\r\\n     69 lvx1: not used\\r\\n     70 lvx2: not used\\r\\n     71 lvx3: not used\\r\\n     72 lvx4: not used\\r\\n     73 lvf: not used\\r\\n     74 cathef: not used\\r\\n     75 junk: not used\\r\\n     76 name: last name of patient  (I replaced this with the dummy string \"name\")', 'citation': None}}\n",
      "        name     role         type demographic  \\\n",
      "0        age  Feature      Integer         Age   \n",
      "1        sex  Feature  Categorical         Sex   \n",
      "2         cp  Feature  Categorical        None   \n",
      "3   trestbps  Feature      Integer        None   \n",
      "4       chol  Feature      Integer        None   \n",
      "5        fbs  Feature  Categorical        None   \n",
      "6    restecg  Feature  Categorical        None   \n",
      "7    thalach  Feature      Integer        None   \n",
      "8      exang  Feature  Categorical        None   \n",
      "9    oldpeak  Feature      Integer        None   \n",
      "10     slope  Feature  Categorical        None   \n",
      "11        ca  Feature      Integer        None   \n",
      "12      thal  Feature  Categorical        None   \n",
      "13       num   Target      Integer        None   \n",
      "\n",
      "                                          description  units missing_values  \n",
      "0                                                None  years             no  \n",
      "1                                                None   None             no  \n",
      "2                                                None   None             no  \n",
      "3   resting blood pressure (on admission to the ho...  mm Hg             no  \n",
      "4                                   serum cholestoral  mg/dl             no  \n",
      "5                     fasting blood sugar > 120 mg/dl   None             no  \n",
      "6                                                None   None             no  \n",
      "7                         maximum heart rate achieved   None             no  \n",
      "8                             exercise induced angina   None             no  \n",
      "9   ST depression induced by exercise relative to ...   None             no  \n",
      "10                                               None   None             no  \n",
      "11  number of major vessels (0-3) colored by flour...   None            yes  \n",
      "12                                               None   None            yes  \n",
      "13                         diagnosis of heart disease   None             no  \n"
     ]
    }
   ],
   "source": [
    "from ucimlrepo import fetch_ucirepo \n",
    "  \n",
    "# fetch dataset \n",
    "heart_disease = fetch_ucirepo(id=45) \n",
    "  \n",
    "# data (as pandas dataframes) \n",
    "X = heart_disease.data.features \n",
    "y = heart_disease.data.targets \n",
    "  \n",
    "# metadata \n",
    "print(heart_disease.metadata) \n",
    "  \n",
    "# variable information \n",
    "print(heart_disease.variables) "
   ]
  },
  {
   "cell_type": "code",
   "execution_count": 2,
   "metadata": {},
   "outputs": [
    {
     "ename": "NameError",
     "evalue": "name 'features' is not defined",
     "output_type": "error",
     "traceback": [
      "\u001b[0;31m---------------------------------------------------------------------------\u001b[0m",
      "\u001b[0;31mNameError\u001b[0m                                 Traceback (most recent call last)",
      "Cell \u001b[0;32mIn[2], line 2\u001b[0m\n\u001b[1;32m      1\u001b[0m data \u001b[38;5;241m=\u001b[39m heart_disease\u001b[38;5;241m.\u001b[39mdata\u001b[38;5;241m.\u001b[39mfeatures\u001b[38;5;241m.\u001b[39mjoin(heart_disease\u001b[38;5;241m.\u001b[39mdata\u001b[38;5;241m.\u001b[39mtargets)[[\u001b[38;5;124m'\u001b[39m\u001b[38;5;124mage\u001b[39m\u001b[38;5;124m'\u001b[39m, \u001b[38;5;124m'\u001b[39m\u001b[38;5;124mtrestbps\u001b[39m\u001b[38;5;124m'\u001b[39m, \u001b[38;5;124m'\u001b[39m\u001b[38;5;124mchol\u001b[39m\u001b[38;5;124m'\u001b[39m, \u001b[38;5;124m'\u001b[39m\u001b[38;5;124mthalach\u001b[39m\u001b[38;5;124m'\u001b[39m, \u001b[38;5;124m'\u001b[39m\u001b[38;5;124mnum\u001b[39m\u001b[38;5;124m'\u001b[39m]]\n\u001b[0;32m----> 2\u001b[0m data[\u001b[38;5;124m'\u001b[39m\u001b[38;5;124mnum\u001b[39m\u001b[38;5;124m'\u001b[39m] \u001b[38;5;241m=\u001b[39m (\u001b[43mfeatures\u001b[49m[\u001b[38;5;124m'\u001b[39m\u001b[38;5;124mnum\u001b[39m\u001b[38;5;124m'\u001b[39m] \u001b[38;5;241m>\u001b[39m \u001b[38;5;241m0\u001b[39m)\u001b[38;5;241m.\u001b[39mastype(\u001b[38;5;28mint\u001b[39m)\n\u001b[1;32m      5\u001b[0m thalach \u001b[38;5;241m=\u001b[39m data[\u001b[38;5;124m'\u001b[39m\u001b[38;5;124mthalach\u001b[39m\u001b[38;5;124m'\u001b[39m]\u001b[38;5;241m.\u001b[39mvalues\u001b[38;5;241m.\u001b[39mastype(\u001b[38;5;28mfloat\u001b[39m)\n\u001b[1;32m      6\u001b[0m thalach[np\u001b[38;5;241m.\u001b[39mrandom\u001b[38;5;241m.\u001b[39mrand(\u001b[38;5;241m*\u001b[39mthalach\u001b[38;5;241m.\u001b[39mshape) \u001b[38;5;241m<\u001b[39m \u001b[38;5;241m0.2\u001b[39m] \u001b[38;5;241m=\u001b[39m np\u001b[38;5;241m.\u001b[39mnan\n",
      "\u001b[0;31mNameError\u001b[0m: name 'features' is not defined"
     ]
    }
   ],
   "source": [
    "data = heart_disease.data.features.join(heart_disease.data.targets)[['age', 'trestbps', 'chol', 'thalach', 'num']]\n",
    "data['num'] = (features['num'] > 0).astype(int)\n",
    "\n",
    "\n",
    "thalach = data['thalach'].values.astype(float)\n",
    "thalach[np.random.rand(*thalach.shape) < 0.2] = np.nan\n",
    "data['thalach'] = thalach\n",
    "\n"
   ]
  },
  {
   "cell_type": "code",
   "execution_count": 263,
   "metadata": {},
   "outputs": [
    {
     "data": {
      "text/html": [
       "<div>\n",
       "<style scoped>\n",
       "    .dataframe tbody tr th:only-of-type {\n",
       "        vertical-align: middle;\n",
       "    }\n",
       "\n",
       "    .dataframe tbody tr th {\n",
       "        vertical-align: top;\n",
       "    }\n",
       "\n",
       "    .dataframe thead th {\n",
       "        text-align: right;\n",
       "    }\n",
       "</style>\n",
       "<table border=\"1\" class=\"dataframe\">\n",
       "  <thead>\n",
       "    <tr style=\"text-align: right;\">\n",
       "      <th></th>\n",
       "      <th>age</th>\n",
       "      <th>trestbps</th>\n",
       "      <th>chol</th>\n",
       "      <th>thalach</th>\n",
       "      <th>num</th>\n",
       "    </tr>\n",
       "  </thead>\n",
       "  <tbody>\n",
       "    <tr>\n",
       "      <th>0</th>\n",
       "      <td>63</td>\n",
       "      <td>145</td>\n",
       "      <td>233</td>\n",
       "      <td>150.0</td>\n",
       "      <td>0</td>\n",
       "    </tr>\n",
       "    <tr>\n",
       "      <th>1</th>\n",
       "      <td>67</td>\n",
       "      <td>160</td>\n",
       "      <td>286</td>\n",
       "      <td>108.0</td>\n",
       "      <td>1</td>\n",
       "    </tr>\n",
       "    <tr>\n",
       "      <th>2</th>\n",
       "      <td>67</td>\n",
       "      <td>120</td>\n",
       "      <td>229</td>\n",
       "      <td>129.0</td>\n",
       "      <td>1</td>\n",
       "    </tr>\n",
       "    <tr>\n",
       "      <th>3</th>\n",
       "      <td>37</td>\n",
       "      <td>130</td>\n",
       "      <td>250</td>\n",
       "      <td>NaN</td>\n",
       "      <td>0</td>\n",
       "    </tr>\n",
       "    <tr>\n",
       "      <th>4</th>\n",
       "      <td>41</td>\n",
       "      <td>130</td>\n",
       "      <td>204</td>\n",
       "      <td>172.0</td>\n",
       "      <td>0</td>\n",
       "    </tr>\n",
       "    <tr>\n",
       "      <th>...</th>\n",
       "      <td>...</td>\n",
       "      <td>...</td>\n",
       "      <td>...</td>\n",
       "      <td>...</td>\n",
       "      <td>...</td>\n",
       "    </tr>\n",
       "    <tr>\n",
       "      <th>298</th>\n",
       "      <td>45</td>\n",
       "      <td>110</td>\n",
       "      <td>264</td>\n",
       "      <td>132.0</td>\n",
       "      <td>1</td>\n",
       "    </tr>\n",
       "    <tr>\n",
       "      <th>299</th>\n",
       "      <td>68</td>\n",
       "      <td>144</td>\n",
       "      <td>193</td>\n",
       "      <td>141.0</td>\n",
       "      <td>1</td>\n",
       "    </tr>\n",
       "    <tr>\n",
       "      <th>300</th>\n",
       "      <td>57</td>\n",
       "      <td>130</td>\n",
       "      <td>131</td>\n",
       "      <td>115.0</td>\n",
       "      <td>1</td>\n",
       "    </tr>\n",
       "    <tr>\n",
       "      <th>301</th>\n",
       "      <td>57</td>\n",
       "      <td>130</td>\n",
       "      <td>236</td>\n",
       "      <td>174.0</td>\n",
       "      <td>1</td>\n",
       "    </tr>\n",
       "    <tr>\n",
       "      <th>302</th>\n",
       "      <td>38</td>\n",
       "      <td>138</td>\n",
       "      <td>175</td>\n",
       "      <td>173.0</td>\n",
       "      <td>0</td>\n",
       "    </tr>\n",
       "  </tbody>\n",
       "</table>\n",
       "<p>303 rows × 5 columns</p>\n",
       "</div>"
      ],
      "text/plain": [
       "     age  trestbps  chol  thalach  num\n",
       "0     63       145   233    150.0    0\n",
       "1     67       160   286    108.0    1\n",
       "2     67       120   229    129.0    1\n",
       "3     37       130   250      NaN    0\n",
       "4     41       130   204    172.0    0\n",
       "..   ...       ...   ...      ...  ...\n",
       "298   45       110   264    132.0    1\n",
       "299   68       144   193    141.0    1\n",
       "300   57       130   131    115.0    1\n",
       "301   57       130   236    174.0    1\n",
       "302   38       138   175    173.0    0\n",
       "\n",
       "[303 rows x 5 columns]"
      ]
     },
     "execution_count": 263,
     "metadata": {},
     "output_type": "execute_result"
    }
   ],
   "source": [
    "data"
   ]
  },
  {
   "cell_type": "code",
   "execution_count": 258,
   "metadata": {},
   "outputs": [],
   "source": [
    "from sklearn.linear_model import LogisticRegression\n",
    "\n",
    "fixed_data = data.dropna().fillna(features.median())\n",
    "\n",
    "x = fixed_data[['age', 'trestbps', 'chol', 'thalach']].values.astype(float)\n",
    "y = fixed_data['num'].values"
   ]
  },
  {
   "cell_type": "code",
   "execution_count": 259,
   "metadata": {},
   "outputs": [
    {
     "data": {
      "text/plain": [
       "0.7090163934426229"
      ]
     },
     "execution_count": 259,
     "metadata": {},
     "output_type": "execute_result"
    }
   ],
   "source": [
    "model = LogisticRegression().fit(x, y)\n",
    "model.score(x, y)"
   ]
  },
  {
   "cell_type": "code",
   "execution_count": 260,
   "metadata": {},
   "outputs": [
    {
     "data": {
      "text/plain": [
       "array([[ 63., 145., 233., 150.,   0.],\n",
       "       [ 67., 160., 286., 108.,   1.],\n",
       "       [ 37., 130., 250., 187.,   0.],\n",
       "       ...,\n",
       "       [ 68., 144., 193., 141.,   1.],\n",
       "       [ 57., 130., 131., 115.,   1.],\n",
       "       [ 57., 130., 236., 174.,   1.]])"
      ]
     },
     "execution_count": 260,
     "metadata": {},
     "output_type": "execute_result"
    }
   ],
   "source": [
    "features.dropna().values"
   ]
  },
  {
   "cell_type": "code",
   "execution_count": null,
   "metadata": {},
   "outputs": [],
   "source": []
  },
  {
   "cell_type": "code",
   "execution_count": null,
   "metadata": {},
   "outputs": [],
   "source": []
  }
 ],
 "metadata": {
  "kernelspec": {
   "display_name": "Python 3",
   "language": "python",
   "name": "python3"
  },
  "language_info": {
   "codemirror_mode": {
    "name": "ipython",
    "version": 3
   },
   "file_extension": ".py",
   "mimetype": "text/x-python",
   "name": "python",
   "nbconvert_exporter": "python",
   "pygments_lexer": "ipython3",
   "version": "3.12.4"
  }
 },
 "nbformat": 4,
 "nbformat_minor": 2
}
